{
 "cells": [
  {
   "cell_type": "markdown",
   "metadata": {
    "id": "VidU2tTcDRJe"
   },
   "source": [
    "# AI ML Based News Classifier"
   ]
  },
  {
   "cell_type": "markdown",
   "metadata": {
    "id": "zeTbQmTGDRJi"
   },
   "source": [
    "IMPORTING THE LIBRARY FILES"
   ]
  },
  {
   "cell_type": "code",
   "execution_count": 2,
   "metadata": {
    "id": "e2uDlfUHDRJj"
   },
   "outputs": [],
   "source": [
    "import pandas as pd\n",
    "import numpy as np\n",
    "import seaborn as sns\n",
    "import matplotlib.pyplot as plt\n",
    "from sklearn.feature_extraction.text import CountVectorizer\n",
    "import nltk\n",
    "import string\n",
    "import re"
   ]
  },
  {
   "cell_type": "markdown",
   "metadata": {
    "id": "bB1Laq5gDRJo"
   },
   "source": [
    "DATA LOADING"
   ]
  },
  {
   "cell_type": "code",
   "execution_count": 3,
   "metadata": {
    "id": "R6V4HL0kDRJp"
   },
   "outputs": [],
   "source": [
    "def load_data():\n",
    "    data = pd.read_csv('all-data.csv', sep=',', encoding='latin-1',names = [\"category\",\"comment\"])\n",
    "    return data\n"
   ]
  },
  {
   "cell_type": "code",
   "execution_count": 4,
   "metadata": {
    "colab": {
     "base_uri": "https://localhost:8080/",
     "height": 206
    },
    "id": "6S13UacqDRJq",
    "outputId": "ddfd7ebd-1440-463e-8418-f4244d5582b3"
   },
   "outputs": [
    {
     "data": {
      "text/html": [
       "<div>\n",
       "<style scoped>\n",
       "    .dataframe tbody tr th:only-of-type {\n",
       "        vertical-align: middle;\n",
       "    }\n",
       "\n",
       "    .dataframe tbody tr th {\n",
       "        vertical-align: top;\n",
       "    }\n",
       "\n",
       "    .dataframe thead th {\n",
       "        text-align: right;\n",
       "    }\n",
       "</style>\n",
       "<table border=\"1\" class=\"dataframe\">\n",
       "  <thead>\n",
       "    <tr style=\"text-align: right;\">\n",
       "      <th></th>\n",
       "      <th>category</th>\n",
       "      <th>comment</th>\n",
       "    </tr>\n",
       "  </thead>\n",
       "  <tbody>\n",
       "    <tr>\n",
       "      <th>0</th>\n",
       "      <td>neutral</td>\n",
       "      <td>According to Gran , the company has no plans t...</td>\n",
       "    </tr>\n",
       "    <tr>\n",
       "      <th>1</th>\n",
       "      <td>neutral</td>\n",
       "      <td>Technopolis plans to develop in stages an area...</td>\n",
       "    </tr>\n",
       "    <tr>\n",
       "      <th>2</th>\n",
       "      <td>negative</td>\n",
       "      <td>The international electronic industry company ...</td>\n",
       "    </tr>\n",
       "    <tr>\n",
       "      <th>3</th>\n",
       "      <td>neutral</td>\n",
       "      <td>At the request of Finnish media company Alma M...</td>\n",
       "    </tr>\n",
       "    <tr>\n",
       "      <th>4</th>\n",
       "      <td>neutral</td>\n",
       "      <td>In Sweden , Gallerix accumulated SEK denominat...</td>\n",
       "    </tr>\n",
       "  </tbody>\n",
       "</table>\n",
       "</div>"
      ],
      "text/plain": [
       "   category                                            comment\n",
       "0   neutral  According to Gran , the company has no plans t...\n",
       "1   neutral  Technopolis plans to develop in stages an area...\n",
       "2  negative  The international electronic industry company ...\n",
       "3   neutral  At the request of Finnish media company Alma M...\n",
       "4   neutral  In Sweden , Gallerix accumulated SEK denominat..."
      ]
     },
     "execution_count": 4,
     "metadata": {},
     "output_type": "execute_result"
    }
   ],
   "source": [
    "tweet_df = load_data()\n",
    "df=load_data()\n",
    "tweet_df.head()\n"
   ]
  },
  {
   "cell_type": "code",
   "execution_count": 5,
   "metadata": {
    "colab": {
     "base_uri": "https://localhost:8080/"
    },
    "id": "N2EYzSNwDRJt",
    "outputId": "67fa40b8-8fe8-4b0b-c83b-49e2f218962a"
   },
   "outputs": [
    {
     "name": "stdout",
     "output_type": "stream",
     "text": [
      "(12914, 2)\n",
      "COLUMN NAMES Index(['category', 'comment'], dtype='object')\n",
      "<class 'pandas.core.frame.DataFrame'>\n",
      "RangeIndex: 12914 entries, 0 to 12913\n",
      "Data columns (total 2 columns):\n",
      " #   Column    Non-Null Count  Dtype \n",
      "---  ------    --------------  ----- \n",
      " 0   category  12914 non-null  object\n",
      " 1   comment   12914 non-null  object\n",
      "dtypes: object(2)\n",
      "memory usage: 201.9+ KB\n",
      "None\n"
     ]
    }
   ],
   "source": [
    "\n",
    "print(tweet_df.shape)\n",
    "print(\"COLUMN NAMES\" , tweet_df.columns)\n",
    "\n",
    "print(tweet_df.info())"
   ]
  },
  {
   "cell_type": "markdown",
   "metadata": {
    "id": "G3Ey0gYGDRJu"
   },
   "source": [
    "VISUALIZATION OF CATEGORIES OF TEXT DATA - EXPLORATORY DATA ANALYSIS"
   ]
  },
  {
   "cell_type": "code",
   "execution_count": 6,
   "metadata": {
    "colab": {
     "base_uri": "https://localhost:8080/",
     "height": 466
    },
    "id": "0jVDI4E5DRJv",
    "outputId": "3d268f32-39a3-433e-dcdd-5cb1647b54e4"
   },
   "outputs": [
    {
     "data": {
      "text/plain": [
       "<AxesSubplot:xlabel='category', ylabel='count'>"
      ]
     },
     "execution_count": 6,
     "metadata": {},
     "output_type": "execute_result"
    },
    {
     "data": {
      "image/png": "[encoded data removed]",
      "text/plain": [
       "<Figure size 432x288 with 1 Axes>"
      ]
     },
     "metadata": {
      "needs_background": "light"
     },
     "output_type": "display_data"
    }
   ],
   "source": [
    "#TEXT VISUALIZATION \n",
    "sns.countplot(x=\"category\",data=tweet_df)"
   ]
  },
  {
   "cell_type": "markdown",
   "metadata": {
    "id": "xdzCllE5DRJw"
   },
   "source": [
    "# TEXT PRE-PROCESSING"
   ]
  },
  {
   "cell_type": "markdown",
   "metadata": {
    "id": "aZzF7W7KDRJx"
   },
   "source": [
    "1. REMOVING PUNCTUATIONS"
   ]
  },
  {
   "cell_type": "code",
   "execution_count": 7,
   "metadata": {
    "colab": {
     "base_uri": "https://localhost:8080/",
     "height": 363
    },
    "id": "mNrYMYVjDRJx",
    "outputId": "948bf0f5-0f06-4e00-cb57-78c0156cf747"
   },
   "outputs": [
    {
     "data": {
      "text/html": [
       "<div>\n",
       "<style scoped>\n",
       "    .dataframe tbody tr th:only-of-type {\n",
       "        vertical-align: middle;\n",
       "    }\n",
       "\n",
       "    .dataframe tbody tr th {\n",
       "        vertical-align: top;\n",
       "    }\n",
       "\n",
       "    .dataframe thead th {\n",
       "        text-align: right;\n",
       "    }\n",
       "</style>\n",
       "<table border=\"1\" class=\"dataframe\">\n",
       "  <thead>\n",
       "    <tr style=\"text-align: right;\">\n",
       "      <th></th>\n",
       "      <th>category</th>\n",
       "      <th>comment</th>\n",
       "    </tr>\n",
       "  </thead>\n",
       "  <tbody>\n",
       "    <tr>\n",
       "      <th>0</th>\n",
       "      <td>neutral</td>\n",
       "      <td>According to Gran  the company has no plans to...</td>\n",
       "    </tr>\n",
       "    <tr>\n",
       "      <th>1</th>\n",
       "      <td>neutral</td>\n",
       "      <td>Technopolis plans to develop in stages an area...</td>\n",
       "    </tr>\n",
       "    <tr>\n",
       "      <th>2</th>\n",
       "      <td>negative</td>\n",
       "      <td>The international electronic industry company ...</td>\n",
       "    </tr>\n",
       "    <tr>\n",
       "      <th>3</th>\n",
       "      <td>neutral</td>\n",
       "      <td>At the request of Finnish media company Alma M...</td>\n",
       "    </tr>\n",
       "    <tr>\n",
       "      <th>4</th>\n",
       "      <td>neutral</td>\n",
       "      <td>In Sweden  Gallerix accumulated SEK denominate...</td>\n",
       "    </tr>\n",
       "    <tr>\n",
       "      <th>5</th>\n",
       "      <td>neutral</td>\n",
       "      <td>The company supports its global customers in d...</td>\n",
       "    </tr>\n",
       "    <tr>\n",
       "      <th>6</th>\n",
       "      <td>neutral</td>\n",
       "      <td>When this investment is in place  Atria plans ...</td>\n",
       "    </tr>\n",
       "    <tr>\n",
       "      <th>7</th>\n",
       "      <td>neutral</td>\n",
       "      <td>The new agreement is a continuation to theagr...</td>\n",
       "    </tr>\n",
       "    <tr>\n",
       "      <th>8</th>\n",
       "      <td>neutral</td>\n",
       "      <td>In June it sold a  percent stake to Nordstjern...</td>\n",
       "    </tr>\n",
       "    <tr>\n",
       "      <th>9</th>\n",
       "      <td>neutral</td>\n",
       "      <td>STOCK EXCHANGE ANNOUNCEMENT  July      BASWARE...</td>\n",
       "    </tr>\n",
       "  </tbody>\n",
       "</table>\n",
       "</div>"
      ],
      "text/plain": [
       "   category                                            comment\n",
       "0   neutral  According to Gran  the company has no plans to...\n",
       "1   neutral  Technopolis plans to develop in stages an area...\n",
       "2  negative  The international electronic industry company ...\n",
       "3   neutral  At the request of Finnish media company Alma M...\n",
       "4   neutral  In Sweden  Gallerix accumulated SEK denominate...\n",
       "5   neutral  The company supports its global customers in d...\n",
       "6   neutral  When this investment is in place  Atria plans ...\n",
       "7   neutral   The new agreement is a continuation to theagr...\n",
       "8   neutral  In June it sold a  percent stake to Nordstjern...\n",
       "9   neutral  STOCK EXCHANGE ANNOUNCEMENT  July      BASWARE..."
      ]
     },
     "execution_count": 7,
     "metadata": {},
     "output_type": "execute_result"
    }
   ],
   "source": [
    "#remove punctuations\n",
    "def remove_punct(text):\n",
    "    text  = \"\".join([char for char in text if char not in string.punctuation])\n",
    "    text = re.sub('[0-9]+', '', text)\n",
    "    return text\n",
    "\n",
    "tweet_df['comment'] = tweet_df['comment'].apply(lambda x: remove_punct(x))\n",
    "tweet_df.head(10)"
   ]
  },
  {
   "cell_type": "markdown",
   "metadata": {
    "id": "_epCJHWIDRJy"
   },
   "source": [
    "2. STOPWORDS REMOVAL"
   ]
  },
  {
   "cell_type": "code",
   "execution_count": 8,
   "metadata": {
    "colab": {
     "base_uri": "https://localhost:8080/"
    },
    "id": "NRpB1awpDRJy",
    "outputId": "c6815744-936a-432f-8eff-7d3b2edef58c"
   },
   "outputs": [
    {
     "name": "stdout",
     "output_type": "stream",
     "text": [
      "['i', 'me', 'my', 'myself', 'we', 'our', 'ours', 'ourselves', 'you', \"you're\", \"you've\", \"you'll\", \"you'd\", 'your', 'yours', 'yourself', 'yourselves', 'he', 'him', 'his', 'himself', 'she', \"she's\", 'her', 'hers', 'herself', 'it', \"it's\", 'its', 'itself', 'they', 'them', 'their', 'theirs', 'themselves', 'what', 'which', 'who', 'whom', 'this', 'that', \"that'll\", 'these', 'those', 'am', 'is', 'are', 'was', 'were', 'be', 'been', 'being', 'have', 'has', 'had', 'having', 'do', 'does', 'did', 'doing', 'a', 'an', 'the', 'and', 'but', 'if', 'or', 'because', 'as', 'until', 'while', 'of', 'at', 'by', 'for', 'with', 'about', 'against', 'between', 'into', 'through', 'during', 'before', 'after', 'above', 'below', 'to', 'from', 'up', 'down', 'in', 'out', 'on', 'off', 'over', 'under', 'again', 'further', 'then', 'once', 'here', 'there', 'when', 'where', 'why', 'how', 'all', 'any', 'both', 'each', 'few', 'more', 'most', 'other', 'some', 'such', 'no', 'nor', 'not', 'only', 'own', 'same', 'so', 'than', 'too', 'very', 's', 't', 'can', 'will', 'just', 'don', \"don't\", 'should', \"should've\", 'now', 'd', 'll', 'm', 'o', 're', 've', 'y', 'ain', 'aren', \"aren't\", 'couldn', \"couldn't\", 'didn', \"didn't\", 'doesn', \"doesn't\", 'hadn', \"hadn't\", 'hasn', \"hasn't\", 'haven', \"haven't\", 'isn', \"isn't\", 'ma', 'mightn', \"mightn't\", 'mustn', \"mustn't\", 'needn', \"needn't\", 'shan', \"shan't\", 'shouldn', \"shouldn't\", 'wasn', \"wasn't\", 'weren', \"weren't\", 'won', \"won't\", 'wouldn', \"wouldn't\"]\n"
     ]
    },
    {
     "name": "stderr",
     "output_type": "stream",
     "text": [
      "[nltk_data] Downloading package stopwords to\n",
      "[nltk_data]     C:\\Users\\Vaibhav\\AppData\\Roaming\\nltk_data...\n",
      "[nltk_data]   Package stopwords is already up-to-date!\n"
     ]
    }
   ],
   "source": [
    "#stopwords removal\n",
    "import nltk\n",
    "nltk.download('stopwords')\n",
    "stopword = nltk.corpus.stopwords.words('english')\n",
    "print(stopword)"
   ]
  },
  {
   "cell_type": "code",
   "execution_count": 9,
   "metadata": {
    "colab": {
     "base_uri": "https://localhost:8080/",
     "height": 206
    },
    "id": "kQMy-BsNDRJz",
    "outputId": "cc06bf2d-4d8f-4ea2-a0a9-9026b24b96e0"
   },
   "outputs": [
    {
     "data": {
      "text/html": [
       "<div>\n",
       "<style scoped>\n",
       "    .dataframe tbody tr th:only-of-type {\n",
       "        vertical-align: middle;\n",
       "    }\n",
       "\n",
       "    .dataframe tbody tr th {\n",
       "        vertical-align: top;\n",
       "    }\n",
       "\n",
       "    .dataframe thead th {\n",
       "        text-align: right;\n",
       "    }\n",
       "</style>\n",
       "<table border=\"1\" class=\"dataframe\">\n",
       "  <thead>\n",
       "    <tr style=\"text-align: right;\">\n",
       "      <th></th>\n",
       "      <th>category</th>\n",
       "      <th>comment</th>\n",
       "      <th>text_wo_stop</th>\n",
       "    </tr>\n",
       "  </thead>\n",
       "  <tbody>\n",
       "    <tr>\n",
       "      <th>0</th>\n",
       "      <td>neutral</td>\n",
       "      <td>According to Gran  the company has no plans to...</td>\n",
       "      <td>According Gran company plans move production R...</td>\n",
       "    </tr>\n",
       "    <tr>\n",
       "      <th>1</th>\n",
       "      <td>neutral</td>\n",
       "      <td>Technopolis plans to develop in stages an area...</td>\n",
       "      <td>Technopolis plans develop stages area less squ...</td>\n",
       "    </tr>\n",
       "    <tr>\n",
       "      <th>2</th>\n",
       "      <td>negative</td>\n",
       "      <td>The international electronic industry company ...</td>\n",
       "      <td>The international electronic industry company ...</td>\n",
       "    </tr>\n",
       "    <tr>\n",
       "      <th>3</th>\n",
       "      <td>neutral</td>\n",
       "      <td>At the request of Finnish media company Alma M...</td>\n",
       "      <td>At request Finnish media company Alma Media ne...</td>\n",
       "    </tr>\n",
       "    <tr>\n",
       "      <th>4</th>\n",
       "      <td>neutral</td>\n",
       "      <td>In Sweden  Gallerix accumulated SEK denominate...</td>\n",
       "      <td>In Sweden Gallerix accumulated SEK denominated...</td>\n",
       "    </tr>\n",
       "  </tbody>\n",
       "</table>\n",
       "</div>"
      ],
      "text/plain": [
       "   category                                            comment  \\\n",
       "0   neutral  According to Gran  the company has no plans to...   \n",
       "1   neutral  Technopolis plans to develop in stages an area...   \n",
       "2  negative  The international electronic industry company ...   \n",
       "3   neutral  At the request of Finnish media company Alma M...   \n",
       "4   neutral  In Sweden  Gallerix accumulated SEK denominate...   \n",
       "\n",
       "                                        text_wo_stop  \n",
       "0  According Gran company plans move production R...  \n",
       "1  Technopolis plans develop stages area less squ...  \n",
       "2  The international electronic industry company ...  \n",
       "3  At request Finnish media company Alma Media ne...  \n",
       "4  In Sweden Gallerix accumulated SEK denominated...  "
      ]
     },
     "execution_count": 9,
     "metadata": {},
     "output_type": "execute_result"
    }
   ],
   "source": [
    "from nltk.corpus import stopwords\n",
    "\", \".join(stopwords.words('english'))\n",
    "STOPWORDS = set(stopwords.words('english'))\n",
    "def remove_stopwords(text):\n",
    "    \"\"\"custom function to remove the stopwords\"\"\"\n",
    "    return \" \".join([word for word in str(text).split() if word not in STOPWORDS])\n",
    "\n",
    "tweet_df[\"text_wo_stop\"] = tweet_df[\"comment\"].apply(lambda text: remove_stopwords(text))\n",
    "tweet_df.head()\n",
    "\n"
   ]
  },
  {
   "cell_type": "code",
   "execution_count": 10,
   "metadata": {
    "colab": {
     "base_uri": "https://localhost:8080/",
     "height": 755
    },
    "id": "SkMIq4JWDRJz",
    "outputId": "46f9092a-4280-48e3-88f0-2d87c30b5264"
   },
   "outputs": [
    {
     "data": {
      "text/html": [
       "<div>\n",
       "<style scoped>\n",
       "    .dataframe tbody tr th:only-of-type {\n",
       "        vertical-align: middle;\n",
       "    }\n",
       "\n",
       "    .dataframe tbody tr th {\n",
       "        vertical-align: top;\n",
       "    }\n",
       "\n",
       "    .dataframe thead th {\n",
       "        text-align: right;\n",
       "    }\n",
       "</style>\n",
       "<table border=\"1\" class=\"dataframe\">\n",
       "  <thead>\n",
       "    <tr style=\"text-align: right;\">\n",
       "      <th></th>\n",
       "      <th>category</th>\n",
       "      <th>comment</th>\n",
       "      <th>text_wo_stop</th>\n",
       "    </tr>\n",
       "  </thead>\n",
       "  <tbody>\n",
       "    <tr>\n",
       "      <th>0</th>\n",
       "      <td>neutral</td>\n",
       "      <td>According to Gran  the company has no plans to move all production to Russia  although that is w...</td>\n",
       "      <td>According Gran company plans move production Russia although company growing</td>\n",
       "    </tr>\n",
       "    <tr>\n",
       "      <th>1</th>\n",
       "      <td>neutral</td>\n",
       "      <td>Technopolis plans to develop in stages an area of no less than  square meters in order to host c...</td>\n",
       "      <td>Technopolis plans develop stages area less square meters order host companies working computer t...</td>\n",
       "    </tr>\n",
       "    <tr>\n",
       "      <th>2</th>\n",
       "      <td>negative</td>\n",
       "      <td>The international electronic industry company Elcoteq has laid off tens of employees from its Ta...</td>\n",
       "      <td>The international electronic industry company Elcoteq laid tens employees Tallinn facility contr...</td>\n",
       "    </tr>\n",
       "    <tr>\n",
       "      <th>3</th>\n",
       "      <td>neutral</td>\n",
       "      <td>At the request of Finnish media company Alma Media s newspapers  research manager Jari Kaivooja ...</td>\n",
       "      <td>At request Finnish media company Alma Media newspapers research manager Jari Kaivooja Finland Fu...</td>\n",
       "    </tr>\n",
       "    <tr>\n",
       "      <th>4</th>\n",
       "      <td>neutral</td>\n",
       "      <td>In Sweden  Gallerix accumulated SEK denominated sales were down   and EUR denominated sales were...</td>\n",
       "      <td>In Sweden Gallerix accumulated SEK denominated sales EUR denominated sales</td>\n",
       "    </tr>\n",
       "    <tr>\n",
       "      <th>5</th>\n",
       "      <td>neutral</td>\n",
       "      <td>The company supports its global customers in developing new technologies and offers a fast route...</td>\n",
       "      <td>The company supports global customers developing new technologies offers fast route product deve...</td>\n",
       "    </tr>\n",
       "    <tr>\n",
       "      <th>6</th>\n",
       "      <td>neutral</td>\n",
       "      <td>When this investment is in place  Atria plans to expand into the Moscow market</td>\n",
       "      <td>When investment place Atria plans expand Moscow market</td>\n",
       "    </tr>\n",
       "    <tr>\n",
       "      <th>7</th>\n",
       "      <td>neutral</td>\n",
       "      <td>The new agreement is a continuation to theagreement signed earlier this year with the Lemminkai...</td>\n",
       "      <td>The new agreement continuation theagreement signed earlier year Lemminkainen Group whereby Cramo...</td>\n",
       "    </tr>\n",
       "    <tr>\n",
       "      <th>8</th>\n",
       "      <td>neutral</td>\n",
       "      <td>In June it sold a  percent stake to Nordstjernan  and the investment group has now taken up the ...</td>\n",
       "      <td>In June sold percent stake Nordstjernan investment group taken option acquire EQT remaining shares</td>\n",
       "    </tr>\n",
       "    <tr>\n",
       "      <th>9</th>\n",
       "      <td>neutral</td>\n",
       "      <td>STOCK EXCHANGE ANNOUNCEMENT  July      BASWARE SHARE SUBSCRIPTIONS WITH WARRANTS AND INCREASE IN...</td>\n",
       "      <td>STOCK EXCHANGE ANNOUNCEMENT July BASWARE SHARE SUBSCRIPTIONS WITH WARRANTS AND INCREASE IN SHARE...</td>\n",
       "    </tr>\n",
       "    <tr>\n",
       "      <th>10</th>\n",
       "      <td>neutral</td>\n",
       "      <td>The new plant is planned to have an electricity generation capacity of up to  megawatts  MW  and...</td>\n",
       "      <td>The new plant planned electricity generation capacity megawatts MW heat generation capacity</td>\n",
       "    </tr>\n",
       "    <tr>\n",
       "      <th>11</th>\n",
       "      <td>neutral</td>\n",
       "      <td>So  the sales growth of cars considerably influence on the tires market</td>\n",
       "      <td>So sales growth cars considerably influence tires market</td>\n",
       "    </tr>\n",
       "    <tr>\n",
       "      <th>12</th>\n",
       "      <td>neutral</td>\n",
       "      <td>A maximum of  new shares can further be subscribed for by exercising B options under the  stock ...</td>\n",
       "      <td>A maximum new shares subscribed exercising B options stock option plan</td>\n",
       "    </tr>\n",
       "    <tr>\n",
       "      <th>13</th>\n",
       "      <td>neutral</td>\n",
       "      <td>As a result of the share issue  the number of the company s shares increases by  shares and the ...</td>\n",
       "      <td>As result share issue number company shares increases shares share capital total EUR</td>\n",
       "    </tr>\n",
       "    <tr>\n",
       "      <th>14</th>\n",
       "      <td>neutral</td>\n",
       "      <td>Finnish real estate investor Sponda Plc said on Wednesday  March that it has signed agreements w...</td>\n",
       "      <td>Finnish real estate investor Sponda Plc said Wednesday March signed agreements Danske Bank AS He...</td>\n",
       "    </tr>\n",
       "    <tr>\n",
       "      <th>15</th>\n",
       "      <td>neutral</td>\n",
       "      <td>On the route between Helsinki in Finland and Tallinn in Estonia  cargo volumes increased by    w...</td>\n",
       "      <td>On route Helsinki Finland Tallinn Estonia cargo volumes increased cargo volumes Finland Sweden fell</td>\n",
       "    </tr>\n",
       "    <tr>\n",
       "      <th>16</th>\n",
       "      <td>neutral</td>\n",
       "      <td>Other measures included increasing synergies and economies of scale within the Grimaldi Group an...</td>\n",
       "      <td>Other measures included increasing synergies economies scale within Grimaldi Group personnel adj...</td>\n",
       "    </tr>\n",
       "    <tr>\n",
       "      <th>17</th>\n",
       "      <td>neutral</td>\n",
       "      <td>TELECOMWORLDWIRE April TJ Group Plc sells stake in Morning Digital Design Oy Finnish IT company ...</td>\n",
       "      <td>TELECOMWORLDWIRE April TJ Group Plc sells stake Morning Digital Design Oy Finnish IT company TJ ...</td>\n",
       "    </tr>\n",
       "    <tr>\n",
       "      <th>18</th>\n",
       "      <td>neutral</td>\n",
       "      <td>The  new Series A shares will become subject to trading on the Helsinki Stock Exchange s Main Li...</td>\n",
       "      <td>The new Series A shares become subject trading Helsinki Stock Exchange Main List together old Se...</td>\n",
       "    </tr>\n",
       "    <tr>\n",
       "      <th>19</th>\n",
       "      <td>neutral</td>\n",
       "      <td>The fuel purchase contracts have been signed with three months  delivery from this September to ...</td>\n",
       "      <td>The fuel purchase contracts signed three months delivery September November</td>\n",
       "    </tr>\n",
       "  </tbody>\n",
       "</table>\n",
       "</div>"
      ],
      "text/plain": [
       "    category  \\\n",
       "0    neutral   \n",
       "1    neutral   \n",
       "2   negative   \n",
       "3    neutral   \n",
       "4    neutral   \n",
       "5    neutral   \n",
       "6    neutral   \n",
       "7    neutral   \n",
       "8    neutral   \n",
       "9    neutral   \n",
       "10   neutral   \n",
       "11   neutral   \n",
       "12   neutral   \n",
       "13   neutral   \n",
       "14   neutral   \n",
       "15   neutral   \n",
       "16   neutral   \n",
       "17   neutral   \n",
       "18   neutral   \n",
       "19   neutral   \n",
       "\n",
       "                                                                                                comment  \\\n",
       "0   According to Gran  the company has no plans to move all production to Russia  although that is w...   \n",
       "1   Technopolis plans to develop in stages an area of no less than  square meters in order to host c...   \n",
       "2   The international electronic industry company Elcoteq has laid off tens of employees from its Ta...   \n",
       "3   At the request of Finnish media company Alma Media s newspapers  research manager Jari Kaivooja ...   \n",
       "4   In Sweden  Gallerix accumulated SEK denominated sales were down   and EUR denominated sales were...   \n",
       "5   The company supports its global customers in developing new technologies and offers a fast route...   \n",
       "6                       When this investment is in place  Atria plans to expand into the Moscow market    \n",
       "7    The new agreement is a continuation to theagreement signed earlier this year with the Lemminkai...   \n",
       "8   In June it sold a  percent stake to Nordstjernan  and the investment group has now taken up the ...   \n",
       "9   STOCK EXCHANGE ANNOUNCEMENT  July      BASWARE SHARE SUBSCRIPTIONS WITH WARRANTS AND INCREASE IN...   \n",
       "10  The new plant is planned to have an electricity generation capacity of up to  megawatts  MW  and...   \n",
       "11                            So  the sales growth of cars considerably influence on the tires market     \n",
       "12  A maximum of  new shares can further be subscribed for by exercising B options under the  stock ...   \n",
       "13  As a result of the share issue  the number of the company s shares increases by  shares and the ...   \n",
       "14  Finnish real estate investor Sponda Plc said on Wednesday  March that it has signed agreements w...   \n",
       "15  On the route between Helsinki in Finland and Tallinn in Estonia  cargo volumes increased by    w...   \n",
       "16  Other measures included increasing synergies and economies of scale within the Grimaldi Group an...   \n",
       "17  TELECOMWORLDWIRE April TJ Group Plc sells stake in Morning Digital Design Oy Finnish IT company ...   \n",
       "18  The  new Series A shares will become subject to trading on the Helsinki Stock Exchange s Main Li...   \n",
       "19  The fuel purchase contracts have been signed with three months  delivery from this September to ...   \n",
       "\n",
       "                                                                                           text_wo_stop  \n",
       "0                          According Gran company plans move production Russia although company growing  \n",
       "1   Technopolis plans develop stages area less square meters order host companies working computer t...  \n",
       "2   The international electronic industry company Elcoteq laid tens employees Tallinn facility contr...  \n",
       "3   At request Finnish media company Alma Media newspapers research manager Jari Kaivooja Finland Fu...  \n",
       "4                            In Sweden Gallerix accumulated SEK denominated sales EUR denominated sales  \n",
       "5   The company supports global customers developing new technologies offers fast route product deve...  \n",
       "6                                                When investment place Atria plans expand Moscow market  \n",
       "7   The new agreement continuation theagreement signed earlier year Lemminkainen Group whereby Cramo...  \n",
       "8    In June sold percent stake Nordstjernan investment group taken option acquire EQT remaining shares  \n",
       "9   STOCK EXCHANGE ANNOUNCEMENT July BASWARE SHARE SUBSCRIPTIONS WITH WARRANTS AND INCREASE IN SHARE...  \n",
       "10          The new plant planned electricity generation capacity megawatts MW heat generation capacity  \n",
       "11                                             So sales growth cars considerably influence tires market  \n",
       "12                               A maximum new shares subscribed exercising B options stock option plan  \n",
       "13                 As result share issue number company shares increases shares share capital total EUR  \n",
       "14  Finnish real estate investor Sponda Plc said Wednesday March signed agreements Danske Bank AS He...  \n",
       "15  On route Helsinki Finland Tallinn Estonia cargo volumes increased cargo volumes Finland Sweden fell  \n",
       "16  Other measures included increasing synergies economies scale within Grimaldi Group personnel adj...  \n",
       "17  TELECOMWORLDWIRE April TJ Group Plc sells stake Morning Digital Design Oy Finnish IT company TJ ...  \n",
       "18  The new Series A shares become subject trading Helsinki Stock Exchange Main List together old Se...  \n",
       "19                          The fuel purchase contracts signed three months delivery September November  "
      ]
     },
     "execution_count": 10,
     "metadata": {},
     "output_type": "execute_result"
    }
   ],
   "source": [
    "#remove \n",
    "%matplotlib inline\n",
    "pd.set_option('display.max_colwidth', 100)\n",
    "\n",
    "tweet_df.head(20)"
   ]
  },
  {
   "cell_type": "markdown",
   "metadata": {
    "id": "g7NyNqbVDRJ2"
   },
   "source": [
    "3. STEMMING AND LEMMATIZATION OF TEXT DATA\n"
   ]
  },
  {
   "cell_type": "code",
   "execution_count": 10,
   "metadata": {
    "colab": {
     "base_uri": "https://localhost:8080/",
     "height": 337
    },
    "id": "FFU6ZpJgDRJ3",
    "outputId": "2f4ae8cc-3db4-415f-af6d-606d1fcc2524"
   },
   "outputs": [
    {
     "data": {
      "text/html": [
       "<div>\n",
       "<style scoped>\n",
       "    .dataframe tbody tr th:only-of-type {\n",
       "        vertical-align: middle;\n",
       "    }\n",
       "\n",
       "    .dataframe tbody tr th {\n",
       "        vertical-align: top;\n",
       "    }\n",
       "\n",
       "    .dataframe thead th {\n",
       "        text-align: right;\n",
       "    }\n",
       "</style>\n",
       "<table border=\"1\" class=\"dataframe\">\n",
       "  <thead>\n",
       "    <tr style=\"text-align: right;\">\n",
       "      <th></th>\n",
       "      <th>category</th>\n",
       "      <th>comment</th>\n",
       "      <th>text_wo_stop</th>\n",
       "      <th>text_stemmed</th>\n",
       "    </tr>\n",
       "  </thead>\n",
       "  <tbody>\n",
       "    <tr>\n",
       "      <th>0</th>\n",
       "      <td>neutral</td>\n",
       "      <td>According to Gran  the company has no plans to move all production to Russia  although that is w...</td>\n",
       "      <td>According Gran company plans move production Russia although company growing</td>\n",
       "      <td>accord gran compani plan move product russia although compani grow</td>\n",
       "    </tr>\n",
       "    <tr>\n",
       "      <th>1</th>\n",
       "      <td>neutral</td>\n",
       "      <td>Technopolis plans to develop in stages an area of no less than  square meters in order to host c...</td>\n",
       "      <td>Technopolis plans develop stages area less square meters order host companies working computer t...</td>\n",
       "      <td>technopoli plan develop stage area less squar meter order host compani work comput technolog tel...</td>\n",
       "    </tr>\n",
       "    <tr>\n",
       "      <th>2</th>\n",
       "      <td>negative</td>\n",
       "      <td>The international electronic industry company Elcoteq has laid off tens of employees from its Ta...</td>\n",
       "      <td>The international electronic industry company Elcoteq laid tens employees Tallinn facility contr...</td>\n",
       "      <td>the intern electron industri compani elcoteq laid ten employe tallinn facil contrari earlier lay...</td>\n",
       "    </tr>\n",
       "    <tr>\n",
       "      <th>3</th>\n",
       "      <td>neutral</td>\n",
       "      <td>At the request of Finnish media company Alma Media s newspapers  research manager Jari Kaivooja ...</td>\n",
       "      <td>At request Finnish media company Alma Media newspapers research manager Jari Kaivooja Finland Fu...</td>\n",
       "      <td>at request finnish media compani alma media newspap research manag jari kaivooja finland futur r...</td>\n",
       "    </tr>\n",
       "    <tr>\n",
       "      <th>4</th>\n",
       "      <td>neutral</td>\n",
       "      <td>In Sweden  Gallerix accumulated SEK denominated sales were down   and EUR denominated sales were...</td>\n",
       "      <td>In Sweden Gallerix accumulated SEK denominated sales EUR denominated sales</td>\n",
       "      <td>in sweden gallerix accumul sek denomin sale eur denomin sale</td>\n",
       "    </tr>\n",
       "  </tbody>\n",
       "</table>\n",
       "</div>"
      ],
      "text/plain": [
       "   category  \\\n",
       "0   neutral   \n",
       "1   neutral   \n",
       "2  negative   \n",
       "3   neutral   \n",
       "4   neutral   \n",
       "\n",
       "                                                                                               comment  \\\n",
       "0  According to Gran  the company has no plans to move all production to Russia  although that is w...   \n",
       "1  Technopolis plans to develop in stages an area of no less than  square meters in order to host c...   \n",
       "2  The international electronic industry company Elcoteq has laid off tens of employees from its Ta...   \n",
       "3  At the request of Finnish media company Alma Media s newspapers  research manager Jari Kaivooja ...   \n",
       "4  In Sweden  Gallerix accumulated SEK denominated sales were down   and EUR denominated sales were...   \n",
       "\n",
       "                                                                                          text_wo_stop  \\\n",
       "0                         According Gran company plans move production Russia although company growing   \n",
       "1  Technopolis plans develop stages area less square meters order host companies working computer t...   \n",
       "2  The international electronic industry company Elcoteq laid tens employees Tallinn facility contr...   \n",
       "3  At request Finnish media company Alma Media newspapers research manager Jari Kaivooja Finland Fu...   \n",
       "4                           In Sweden Gallerix accumulated SEK denominated sales EUR denominated sales   \n",
       "\n",
       "                                                                                          text_stemmed  \n",
       "0                                   accord gran compani plan move product russia although compani grow  \n",
       "1  technopoli plan develop stage area less squar meter order host compani work comput technolog tel...  \n",
       "2  the intern electron industri compani elcoteq laid ten employe tallinn facil contrari earlier lay...  \n",
       "3  at request finnish media compani alma media newspap research manag jari kaivooja finland futur r...  \n",
       "4                                         in sweden gallerix accumul sek denomin sale eur denomin sale  "
      ]
     },
     "execution_count": 10,
     "metadata": {},
     "output_type": "execute_result"
    }
   ],
   "source": [
    "#stemming and lemmatization\n",
    "# from nltk.stem.porter import PorterStemmer\n",
    "# stemmer = PorterStemmer()\n",
    "# def stem_words(text):\n",
    "#     return \" \".join([stemmer.stem(word) for word in text.split()])\n",
    "# tweet_df[\"text_stemmed\"] = tweet_df[\"text_wo_stop\"].apply(lambda text: stem_words(text))\n",
    "# tweet_df.head()\n",
    "\n"
   ]
  },
  {
   "cell_type": "markdown",
   "metadata": {
    "id": "jyxfd_G5DRJ4"
   },
   "source": [
    "4. COUNT VECTORIZATION"
   ]
  },
  {
   "cell_type": "code",
   "execution_count": 11,
   "metadata": {
    "colab": {
     "base_uri": "https://localhost:8080/"
    },
    "id": "sSarhlRxDRJ4",
    "outputId": "f0f5faa8-aac0-48e6-9f2d-fd9990297920"
   },
   "outputs": [
    {
     "data": {
      "text/plain": [
       "[('EUR', 2626),\n",
       " ('The', 1944),\n",
       " ('mn', 1464),\n",
       " ('company', 1211),\n",
       " ('profit', 954),\n",
       " ('AAP', 920),\n",
       " ('Finnish', 881),\n",
       " ('said', 865),\n",
       " ('sales', 847),\n",
       " ('million', 805),\n",
       " ('net', 733),\n",
       " ('user', 653),\n",
       " ('year', 617),\n",
       " ('period', 606),\n",
       " ('today', 555),\n",
       " ('quarter', 538),\n",
       " ('mln', 516),\n",
       " ('Finland', 503),\n",
       " ('I', 490),\n",
       " ('In', 472)]"
      ]
     },
     "execution_count": 11,
     "metadata": {},
     "output_type": "execute_result"
    }
   ],
   "source": [
    "# #remove frequent words - countvectorization\n",
    "from collections import Counter\n",
    "cnt = Counter()\n",
    "for text in tweet_df[\"text_wo_stop\"].values:\n",
    "    for word in text.split():\n",
    "        cnt[word] += 1\n",
    "        \n",
    "cnt.most_common(20)"
   ]
  },
  {
   "cell_type": "markdown",
   "metadata": {
    "id": "cTTdh0mHDRJ5"
   },
   "source": [
    "5. REMOVAL OF THE MOST FREQUENT WORDS"
   ]
  },
  {
   "cell_type": "code",
   "execution_count": 12,
   "metadata": {
    "colab": {
     "base_uri": "https://localhost:8080/",
     "height": 354
    },
    "id": "R31vU9UyDRJ5",
    "outputId": "27f821b7-4812-42ab-b7f7-a9a3df2630bb"
   },
   "outputs": [
    {
     "data": {
      "text/html": [
       "<div>\n",
       "<style scoped>\n",
       "    .dataframe tbody tr th:only-of-type {\n",
       "        vertical-align: middle;\n",
       "    }\n",
       "\n",
       "    .dataframe tbody tr th {\n",
       "        vertical-align: top;\n",
       "    }\n",
       "\n",
       "    .dataframe thead th {\n",
       "        text-align: right;\n",
       "    }\n",
       "</style>\n",
       "<table border=\"1\" class=\"dataframe\">\n",
       "  <thead>\n",
       "    <tr style=\"text-align: right;\">\n",
       "      <th></th>\n",
       "      <th>category</th>\n",
       "      <th>comment</th>\n",
       "      <th>text_wo_stop</th>\n",
       "      <th>text__stop_freq</th>\n",
       "    </tr>\n",
       "  </thead>\n",
       "  <tbody>\n",
       "    <tr>\n",
       "      <th>0</th>\n",
       "      <td>neutral</td>\n",
       "      <td>According to Gran  the company has no plans to move all production to Russia  although that is w...</td>\n",
       "      <td>According Gran company plans move production Russia although company growing</td>\n",
       "      <td>According Gran plans move production Russia although growing</td>\n",
       "    </tr>\n",
       "    <tr>\n",
       "      <th>1</th>\n",
       "      <td>neutral</td>\n",
       "      <td>Technopolis plans to develop in stages an area of no less than  square meters in order to host c...</td>\n",
       "      <td>Technopolis plans develop stages area less square meters order host companies working computer t...</td>\n",
       "      <td>Technopolis plans develop stages area less square meters order host companies working computer t...</td>\n",
       "    </tr>\n",
       "    <tr>\n",
       "      <th>2</th>\n",
       "      <td>negative</td>\n",
       "      <td>The international electronic industry company Elcoteq has laid off tens of employees from its Ta...</td>\n",
       "      <td>The international electronic industry company Elcoteq laid tens employees Tallinn facility contr...</td>\n",
       "      <td>international electronic industry Elcoteq laid tens employees Tallinn facility contrary earlier ...</td>\n",
       "    </tr>\n",
       "    <tr>\n",
       "      <th>3</th>\n",
       "      <td>neutral</td>\n",
       "      <td>At the request of Finnish media company Alma Media s newspapers  research manager Jari Kaivooja ...</td>\n",
       "      <td>At request Finnish media company Alma Media newspapers research manager Jari Kaivooja Finland Fu...</td>\n",
       "      <td>At request media Alma Media newspapers research manager Jari Kaivooja Finland Futures Research C...</td>\n",
       "    </tr>\n",
       "    <tr>\n",
       "      <th>4</th>\n",
       "      <td>neutral</td>\n",
       "      <td>In Sweden  Gallerix accumulated SEK denominated sales were down   and EUR denominated sales were...</td>\n",
       "      <td>In Sweden Gallerix accumulated SEK denominated sales EUR denominated sales</td>\n",
       "      <td>In Sweden Gallerix accumulated SEK denominated denominated</td>\n",
       "    </tr>\n",
       "  </tbody>\n",
       "</table>\n",
       "</div>"
      ],
      "text/plain": [
       "   category  \\\n",
       "0   neutral   \n",
       "1   neutral   \n",
       "2  negative   \n",
       "3   neutral   \n",
       "4   neutral   \n",
       "\n",
       "                                                                                               comment  \\\n",
       "0  According to Gran  the company has no plans to move all production to Russia  although that is w...   \n",
       "1  Technopolis plans to develop in stages an area of no less than  square meters in order to host c...   \n",
       "2  The international electronic industry company Elcoteq has laid off tens of employees from its Ta...   \n",
       "3  At the request of Finnish media company Alma Media s newspapers  research manager Jari Kaivooja ...   \n",
       "4  In Sweden  Gallerix accumulated SEK denominated sales were down   and EUR denominated sales were...   \n",
       "\n",
       "                                                                                          text_wo_stop  \\\n",
       "0                         According Gran company plans move production Russia although company growing   \n",
       "1  Technopolis plans develop stages area less square meters order host companies working computer t...   \n",
       "2  The international electronic industry company Elcoteq laid tens employees Tallinn facility contr...   \n",
       "3  At request Finnish media company Alma Media newspapers research manager Jari Kaivooja Finland Fu...   \n",
       "4                           In Sweden Gallerix accumulated SEK denominated sales EUR denominated sales   \n",
       "\n",
       "                                                                                       text__stop_freq  \n",
       "0                                         According Gran plans move production Russia although growing  \n",
       "1  Technopolis plans develop stages area less square meters order host companies working computer t...  \n",
       "2  international electronic industry Elcoteq laid tens employees Tallinn facility contrary earlier ...  \n",
       "3  At request media Alma Media newspapers research manager Jari Kaivooja Finland Futures Research C...  \n",
       "4                                           In Sweden Gallerix accumulated SEK denominated denominated  "
      ]
     },
     "execution_count": 12,
     "metadata": {},
     "output_type": "execute_result"
    }
   ],
   "source": [
    "FREQWORDS = set([w for (w, wc) in cnt.most_common(10)])\n",
    "def remove_freqwords(text):\n",
    "    \"\"\"custom function to remove the frequent words\"\"\"\n",
    "    return \" \".join([word for word in str(text).split() if word not in FREQWORDS])\n",
    "\n",
    "tweet_df[\"text__stop_freq\"] = tweet_df[\"text_wo_stop\"].apply(lambda text: remove_freqwords(text))\n",
    "tweet_df.head()"
   ]
  },
  {
   "cell_type": "code",
   "execution_count": 13,
   "metadata": {
    "colab": {
     "base_uri": "https://localhost:8080/",
     "height": 493
    },
    "id": "XI-nIWgQDRJ6",
    "outputId": "8834d2f7-aae2-4de0-fe99-d1c13ce4417d"
   },
   "outputs": [
    {
     "name": "stderr",
     "output_type": "stream",
     "text": [
      "[nltk_data] Downloading package wordnet to\n",
      "[nltk_data]     C:\\Users\\Vaibhav\\AppData\\Roaming\\nltk_data...\n",
      "[nltk_data]   Package wordnet is already up-to-date!\n",
      "[nltk_data] Downloading package averaged_perceptron_tagger to\n",
      "[nltk_data]     C:\\Users\\Vaibhav\\AppData\\Roaming\\nltk_data...\n",
      "[nltk_data]   Package averaged_perceptron_tagger is already up-to-\n",
      "[nltk_data]       date!\n"
     ]
    },
    {
     "data": {
      "text/html": [
       "<div>\n",
       "<style scoped>\n",
       "    .dataframe tbody tr th:only-of-type {\n",
       "        vertical-align: middle;\n",
       "    }\n",
       "\n",
       "    .dataframe tbody tr th {\n",
       "        vertical-align: top;\n",
       "    }\n",
       "\n",
       "    .dataframe thead th {\n",
       "        text-align: right;\n",
       "    }\n",
       "</style>\n",
       "<table border=\"1\" class=\"dataframe\">\n",
       "  <thead>\n",
       "    <tr style=\"text-align: right;\">\n",
       "      <th></th>\n",
       "      <th>category</th>\n",
       "      <th>comment</th>\n",
       "      <th>text_wo_stop</th>\n",
       "      <th>text__stop_freq</th>\n",
       "      <th>text_lemmatized</th>\n",
       "    </tr>\n",
       "  </thead>\n",
       "  <tbody>\n",
       "    <tr>\n",
       "      <th>0</th>\n",
       "      <td>neutral</td>\n",
       "      <td>According to Gran  the company has no plans to move all production to Russia  although that is w...</td>\n",
       "      <td>According Gran company plans move production Russia although company growing</td>\n",
       "      <td>According Gran plans move production Russia although growing</td>\n",
       "      <td>According Gran company plan move production Russia although company grow</td>\n",
       "    </tr>\n",
       "    <tr>\n",
       "      <th>1</th>\n",
       "      <td>neutral</td>\n",
       "      <td>Technopolis plans to develop in stages an area of no less than  square meters in order to host c...</td>\n",
       "      <td>Technopolis plans develop stages area less square meters order host companies working computer t...</td>\n",
       "      <td>Technopolis plans develop stages area less square meters order host companies working computer t...</td>\n",
       "      <td>Technopolis plan develop stage area less square meter order host company work computer technolog...</td>\n",
       "    </tr>\n",
       "    <tr>\n",
       "      <th>2</th>\n",
       "      <td>negative</td>\n",
       "      <td>The international electronic industry company Elcoteq has laid off tens of employees from its Ta...</td>\n",
       "      <td>The international electronic industry company Elcoteq laid tens employees Tallinn facility contr...</td>\n",
       "      <td>international electronic industry Elcoteq laid tens employees Tallinn facility contrary earlier ...</td>\n",
       "      <td>The international electronic industry company Elcoteq laid ten employee Tallinn facility contrar...</td>\n",
       "    </tr>\n",
       "    <tr>\n",
       "      <th>3</th>\n",
       "      <td>neutral</td>\n",
       "      <td>At the request of Finnish media company Alma Media s newspapers  research manager Jari Kaivooja ...</td>\n",
       "      <td>At request Finnish media company Alma Media newspapers research manager Jari Kaivooja Finland Fu...</td>\n",
       "      <td>At request media Alma Media newspapers research manager Jari Kaivooja Finland Futures Research C...</td>\n",
       "      <td>At request Finnish medium company Alma Media newspaper research manager Jari Kaivooja Finland Fu...</td>\n",
       "    </tr>\n",
       "    <tr>\n",
       "      <th>4</th>\n",
       "      <td>neutral</td>\n",
       "      <td>In Sweden  Gallerix accumulated SEK denominated sales were down   and EUR denominated sales were...</td>\n",
       "      <td>In Sweden Gallerix accumulated SEK denominated sales EUR denominated sales</td>\n",
       "      <td>In Sweden Gallerix accumulated SEK denominated denominated</td>\n",
       "      <td>In Sweden Gallerix accumulate SEK denominate sale EUR denominate sale</td>\n",
       "    </tr>\n",
       "  </tbody>\n",
       "</table>\n",
       "</div>"
      ],
      "text/plain": [
       "   category  \\\n",
       "0   neutral   \n",
       "1   neutral   \n",
       "2  negative   \n",
       "3   neutral   \n",
       "4   neutral   \n",
       "\n",
       "                                                                                               comment  \\\n",
       "0  According to Gran  the company has no plans to move all production to Russia  although that is w...   \n",
       "1  Technopolis plans to develop in stages an area of no less than  square meters in order to host c...   \n",
       "2  The international electronic industry company Elcoteq has laid off tens of employees from its Ta...   \n",
       "3  At the request of Finnish media company Alma Media s newspapers  research manager Jari Kaivooja ...   \n",
       "4  In Sweden  Gallerix accumulated SEK denominated sales were down   and EUR denominated sales were...   \n",
       "\n",
       "                                                                                          text_wo_stop  \\\n",
       "0                         According Gran company plans move production Russia although company growing   \n",
       "1  Technopolis plans develop stages area less square meters order host companies working computer t...   \n",
       "2  The international electronic industry company Elcoteq laid tens employees Tallinn facility contr...   \n",
       "3  At request Finnish media company Alma Media newspapers research manager Jari Kaivooja Finland Fu...   \n",
       "4                           In Sweden Gallerix accumulated SEK denominated sales EUR denominated sales   \n",
       "\n",
       "                                                                                       text__stop_freq  \\\n",
       "0                                         According Gran plans move production Russia although growing   \n",
       "1  Technopolis plans develop stages area less square meters order host companies working computer t...   \n",
       "2  international electronic industry Elcoteq laid tens employees Tallinn facility contrary earlier ...   \n",
       "3  At request media Alma Media newspapers research manager Jari Kaivooja Finland Futures Research C...   \n",
       "4                                           In Sweden Gallerix accumulated SEK denominated denominated   \n",
       "\n",
       "                                                                                       text_lemmatized  \n",
       "0                             According Gran company plan move production Russia although company grow  \n",
       "1  Technopolis plan develop stage area less square meter order host company work computer technolog...  \n",
       "2  The international electronic industry company Elcoteq laid ten employee Tallinn facility contrar...  \n",
       "3  At request Finnish medium company Alma Media newspaper research manager Jari Kaivooja Finland Fu...  \n",
       "4                                In Sweden Gallerix accumulate SEK denominate sale EUR denominate sale  "
      ]
     },
     "execution_count": 13,
     "metadata": {},
     "output_type": "execute_result"
    }
   ],
   "source": [
    "# import nltk\n",
    "nltk.download('wordnet')\n",
    "nltk.download('averaged_perceptron_tagger')\n",
    "from nltk.corpus import wordnet\n",
    "from nltk.stem import WordNetLemmatizer\n",
    "\n",
    "lemmatizer = WordNetLemmatizer()\n",
    "wordnet_map = {\"N\":wordnet.NOUN, \"V\":wordnet.VERB, \"J\":wordnet.ADJ, \"R\":wordnet.ADV}\n",
    "def lemmatize_words(text):\n",
    "    pos_tagged_text = nltk.pos_tag(text.split())\n",
    "    return \" \".join([lemmatizer.lemmatize(word, wordnet_map.get(pos[0], wordnet.NOUN)) for word, pos in pos_tagged_text])\n",
    "\n",
    "tweet_df[\"text_lemmatized\"] = tweet_df[\"text_wo_stop\"].apply(lambda text: lemmatize_words(text))\n",
    "tweet_df.head()"
   ]
  },
  {
   "cell_type": "markdown",
   "metadata": {
    "id": "dNbX31iDDRJ7"
   },
   "source": [
    "6. DROPPING THE UN-USED COLUMNS"
   ]
  },
  {
   "cell_type": "code",
   "execution_count": 14,
   "metadata": {
    "id": "3JVPabhVDRJ7"
   },
   "outputs": [],
   "source": [
    "#drop the columns\n",
    "tweet_df=tweet_df.drop([\"text_wo_stop\",\"text__stop_freq\"],axis=1)"
   ]
  },
  {
   "cell_type": "markdown",
   "metadata": {
    "id": "I19UmmY8DRJ8"
   },
   "source": [
    "7. LABEL ENCODING OF THE CATEGORICAL VARIABLES"
   ]
  },
  {
   "cell_type": "code",
   "execution_count": 15,
   "metadata": {
    "colab": {
     "base_uri": "https://localhost:8080/",
     "height": 424
    },
    "id": "RqQaisEWDRJ9",
    "outputId": "030f5cd0-396a-46d0-bb06-adb0021ffeea"
   },
   "outputs": [
    {
     "data": {
      "text/html": [
       "<div>\n",
       "<style scoped>\n",
       "    .dataframe tbody tr th:only-of-type {\n",
       "        vertical-align: middle;\n",
       "    }\n",
       "\n",
       "    .dataframe tbody tr th {\n",
       "        vertical-align: top;\n",
       "    }\n",
       "\n",
       "    .dataframe thead th {\n",
       "        text-align: right;\n",
       "    }\n",
       "</style>\n",
       "<table border=\"1\" class=\"dataframe\">\n",
       "  <thead>\n",
       "    <tr style=\"text-align: right;\">\n",
       "      <th></th>\n",
       "      <th>category</th>\n",
       "      <th>encoded_category</th>\n",
       "    </tr>\n",
       "  </thead>\n",
       "  <tbody>\n",
       "    <tr>\n",
       "      <th>0</th>\n",
       "      <td>neutral</td>\n",
       "      <td>1</td>\n",
       "    </tr>\n",
       "    <tr>\n",
       "      <th>1</th>\n",
       "      <td>neutral</td>\n",
       "      <td>1</td>\n",
       "    </tr>\n",
       "    <tr>\n",
       "      <th>2</th>\n",
       "      <td>negative</td>\n",
       "      <td>0</td>\n",
       "    </tr>\n",
       "    <tr>\n",
       "      <th>3</th>\n",
       "      <td>neutral</td>\n",
       "      <td>1</td>\n",
       "    </tr>\n",
       "    <tr>\n",
       "      <th>4</th>\n",
       "      <td>neutral</td>\n",
       "      <td>1</td>\n",
       "    </tr>\n",
       "    <tr>\n",
       "      <th>...</th>\n",
       "      <td>...</td>\n",
       "      <td>...</td>\n",
       "    </tr>\n",
       "    <tr>\n",
       "      <th>12909</th>\n",
       "      <td>negative</td>\n",
       "      <td>0</td>\n",
       "    </tr>\n",
       "    <tr>\n",
       "      <th>12910</th>\n",
       "      <td>negative</td>\n",
       "      <td>0</td>\n",
       "    </tr>\n",
       "    <tr>\n",
       "      <th>12911</th>\n",
       "      <td>positive</td>\n",
       "      <td>2</td>\n",
       "    </tr>\n",
       "    <tr>\n",
       "      <th>12912</th>\n",
       "      <td>positive</td>\n",
       "      <td>2</td>\n",
       "    </tr>\n",
       "    <tr>\n",
       "      <th>12913</th>\n",
       "      <td>positive</td>\n",
       "      <td>2</td>\n",
       "    </tr>\n",
       "  </tbody>\n",
       "</table>\n",
       "<p>12914 rows × 2 columns</p>\n",
       "</div>"
      ],
      "text/plain": [
       "       category  encoded_category\n",
       "0       neutral                 1\n",
       "1       neutral                 1\n",
       "2      negative                 0\n",
       "3       neutral                 1\n",
       "4       neutral                 1\n",
       "...         ...               ...\n",
       "12909  negative                 0\n",
       "12910  negative                 0\n",
       "12911  positive                 2\n",
       "12912  positive                 2\n",
       "12913  positive                 2\n",
       "\n",
       "[12914 rows x 2 columns]"
      ]
     },
     "execution_count": 15,
     "metadata": {},
     "output_type": "execute_result"
    }
   ],
   "source": [
    "#label encoding\n",
    "from sklearn.preprocessing import LabelEncoder\n",
    "tweet_df['encoded_category'] = LabelEncoder().fit_transform(tweet_df['category'])\n",
    "tweet_df[[\"category\", \"encoded_category\"]]"
   ]
  },
  {
   "cell_type": "code",
   "execution_count": 16,
   "metadata": {
    "id": "8-BYHvBwDRJ-"
   },
   "outputs": [],
   "source": [
    "def clean_review(text):\n",
    "    clean_text = []\n",
    "    for w in word_tokenize(text):\n",
    "        if w.lower() not in stop:\n",
    "            pos = pos_tag([w])\n",
    "            new_w = lemmatizer.lemmatize(w, pos=get_simple_pos(pos[0][1]))\n",
    "            clean_text.append(new_w)\n",
    "    return clean_text\n",
    "\n",
    "def join_text(text):\n",
    "    return \" \".join(text)"
   ]
  },
  {
   "cell_type": "code",
   "execution_count": 17,
   "metadata": {
    "id": "FhrBQ8zjDRJ-"
   },
   "outputs": [],
   "source": [
    "tweet_df=tweet_df.drop([\"category\",\"comment\"],axis=1)"
   ]
  },
  {
   "cell_type": "markdown",
   "metadata": {
    "id": "PGifrVCbDRJ-"
   },
   "source": [
    "PREVIEW OF THE CLEAN AND PRE-PROCESSED TEXT"
   ]
  },
  {
   "cell_type": "code",
   "execution_count": 18,
   "metadata": {
    "colab": {
     "base_uri": "https://localhost:8080/",
     "height": 363
    },
    "id": "fOPk27ERDRJ_",
    "outputId": "27c9e01d-3195-448d-a6dd-eb5e640f1ef7"
   },
   "outputs": [
    {
     "data": {
      "text/html": [
       "<div>\n",
       "<style scoped>\n",
       "    .dataframe tbody tr th:only-of-type {\n",
       "        vertical-align: middle;\n",
       "    }\n",
       "\n",
       "    .dataframe tbody tr th {\n",
       "        vertical-align: top;\n",
       "    }\n",
       "\n",
       "    .dataframe thead th {\n",
       "        text-align: right;\n",
       "    }\n",
       "</style>\n",
       "<table border=\"1\" class=\"dataframe\">\n",
       "  <thead>\n",
       "    <tr style=\"text-align: right;\">\n",
       "      <th></th>\n",
       "      <th>text_lemmatized</th>\n",
       "      <th>encoded_category</th>\n",
       "    </tr>\n",
       "  </thead>\n",
       "  <tbody>\n",
       "    <tr>\n",
       "      <th>0</th>\n",
       "      <td>According Gran company plan move production Russia although company grow</td>\n",
       "      <td>1</td>\n",
       "    </tr>\n",
       "    <tr>\n",
       "      <th>1</th>\n",
       "      <td>Technopolis plan develop stage area less square meter order host company work computer technolog...</td>\n",
       "      <td>1</td>\n",
       "    </tr>\n",
       "    <tr>\n",
       "      <th>2</th>\n",
       "      <td>The international electronic industry company Elcoteq laid ten employee Tallinn facility contrar...</td>\n",
       "      <td>0</td>\n",
       "    </tr>\n",
       "    <tr>\n",
       "      <th>3</th>\n",
       "      <td>At request Finnish medium company Alma Media newspaper research manager Jari Kaivooja Finland Fu...</td>\n",
       "      <td>1</td>\n",
       "    </tr>\n",
       "    <tr>\n",
       "      <th>4</th>\n",
       "      <td>In Sweden Gallerix accumulate SEK denominate sale EUR denominate sale</td>\n",
       "      <td>1</td>\n",
       "    </tr>\n",
       "    <tr>\n",
       "      <th>5</th>\n",
       "      <td>The company support global customer develop new technology offer fast route product development ...</td>\n",
       "      <td>1</td>\n",
       "    </tr>\n",
       "    <tr>\n",
       "      <th>6</th>\n",
       "      <td>When investment place Atria plan expand Moscow market</td>\n",
       "      <td>1</td>\n",
       "    </tr>\n",
       "    <tr>\n",
       "      <th>7</th>\n",
       "      <td>The new agreement continuation theagreement sign earlier year Lemminkainen Group whereby Cramo a...</td>\n",
       "      <td>1</td>\n",
       "    </tr>\n",
       "    <tr>\n",
       "      <th>8</th>\n",
       "      <td>In June sell percent stake Nordstjernan investment group take option acquire EQT remain share</td>\n",
       "      <td>1</td>\n",
       "    </tr>\n",
       "    <tr>\n",
       "      <th>9</th>\n",
       "      <td>STOCK EXCHANGE ANNOUNCEMENT July BASWARE SHARE SUBSCRIPTIONS WITH WARRANTS AND INCREASE IN SHARE...</td>\n",
       "      <td>1</td>\n",
       "    </tr>\n",
       "  </tbody>\n",
       "</table>\n",
       "</div>"
      ],
      "text/plain": [
       "                                                                                       text_lemmatized  \\\n",
       "0                             According Gran company plan move production Russia although company grow   \n",
       "1  Technopolis plan develop stage area less square meter order host company work computer technolog...   \n",
       "2  The international electronic industry company Elcoteq laid ten employee Tallinn facility contrar...   \n",
       "3  At request Finnish medium company Alma Media newspaper research manager Jari Kaivooja Finland Fu...   \n",
       "4                                In Sweden Gallerix accumulate SEK denominate sale EUR denominate sale   \n",
       "5  The company support global customer develop new technology offer fast route product development ...   \n",
       "6                                                When investment place Atria plan expand Moscow market   \n",
       "7  The new agreement continuation theagreement sign earlier year Lemminkainen Group whereby Cramo a...   \n",
       "8        In June sell percent stake Nordstjernan investment group take option acquire EQT remain share   \n",
       "9  STOCK EXCHANGE ANNOUNCEMENT July BASWARE SHARE SUBSCRIPTIONS WITH WARRANTS AND INCREASE IN SHARE...   \n",
       "\n",
       "   encoded_category  \n",
       "0                 1  \n",
       "1                 1  \n",
       "2                 0  \n",
       "3                 1  \n",
       "4                 1  \n",
       "5                 1  \n",
       "6                 1  \n",
       "7                 1  \n",
       "8                 1  \n",
       "9                 1  "
      ]
     },
     "execution_count": 18,
     "metadata": {},
     "output_type": "execute_result"
    }
   ],
   "source": [
    "tweet_df.head(10)"
   ]
  },
  {
   "cell_type": "markdown",
   "metadata": {
    "id": "B6Md7-8tDRJ_"
   },
   "source": [
    "# CLASSIFICATION MODEL BUILDING"
   ]
  },
  {
   "cell_type": "markdown",
   "metadata": {
    "id": "V_eeTzRRDRKA"
   },
   "source": [
    "SPLITTING OF TRAIN AND TEST DATA"
   ]
  },
  {
   "cell_type": "code",
   "execution_count": 19,
   "metadata": {
    "colab": {
     "base_uri": "https://localhost:8080/"
    },
    "id": "sbA-s4feDRKA",
    "outputId": "063e2e8c-2c48-4f65-c1ac-24a3662e92e4"
   },
   "outputs": [
    {
     "data": {
      "text/plain": [
       "((9039,), (3875,), (9039,), (3875,))"
      ]
     },
     "execution_count": 19,
     "metadata": {},
     "output_type": "execute_result"
    }
   ],
   "source": [
    "\n",
    "from sklearn.linear_model import LogisticRegression\n",
    "from sklearn.model_selection import train_test_split\n",
    "from sklearn.pipeline import Pipeline\n",
    "from sklearn.feature_extraction.text import TfidfVectorizer\n",
    "from sklearn.svm import SVC\n",
    "from sklearn.metrics import accuracy_score\n",
    "from sklearn.feature_extraction.text import TfidfTransformer\n",
    "\n",
    "from sklearn.metrics import accuracy_score, confusion_matrix,classification_report\n",
    "\n",
    "x_train,x_test,y_train,y_test = train_test_split(tweet_df.text_lemmatized,tweet_df.encoded_category,test_size = 0.3 , random_state = 0)\n",
    "\n",
    "x_train.shape,x_test.shape,y_train.shape,y_test.shape"
   ]
  },
  {
   "cell_type": "markdown",
   "metadata": {
    "id": "fZunLxfHDRKB"
   },
   "source": [
    "1. LINEAR SUPPORT VECTOR MACHINE"
   ]
  },
  {
   "cell_type": "code",
   "execution_count": 20,
   "metadata": {
    "colab": {
     "base_uri": "https://localhost:8080/"
    },
    "id": "MUiNe0wODRKB",
    "outputId": "216d8029-9547-4af1-b569-dcf15849bace"
   },
   "outputs": [
    {
     "name": "stdout",
     "output_type": "stream",
     "text": [
      "3.5503454208374023\n",
      "MODEL - LINEAR SVC\n",
      "accuracy score: 77.99%\n",
      "              precision    recall  f1-score   support\n",
      "\n",
      "           0       0.79      0.78      0.79      1383\n",
      "           1       0.80      0.75      0.77       837\n",
      "           2       0.76      0.79      0.78      1655\n",
      "\n",
      "    accuracy                           0.78      3875\n",
      "   macro avg       0.78      0.78      0.78      3875\n",
      "weighted avg       0.78      0.78      0.78      3875\n",
      "\n"
     ]
    }
   ],
   "source": [
    "import time\n",
    "pipe = Pipeline([('tfidf', TfidfVectorizer()),\n",
    "                 ('model', SVC(kernel=\"linear\"))])\n",
    "\n",
    "model = pipe.fit(x_train, y_train)\n",
    "start_time = time.time()\n",
    "prediction = model.predict(x_test)\n",
    "linear_svc_prediction_time = time.time() - start_time\n",
    "print(linear_svc_prediction_time)\n",
    "print(\"MODEL - LINEAR SVC\")\n",
    "print(\"accuracy score: {}%\".format(round(accuracy_score(y_test, prediction)*100,2)))\n",
    "print(classification_report(y_test, prediction))"
   ]
  },
  {
   "cell_type": "markdown",
   "metadata": {},
   "source": [
    "2. Polynomial Support Vector Machine"
   ]
  },
  {
   "cell_type": "code",
   "execution_count": 21,
   "metadata": {},
   "outputs": [
    {
     "name": "stdout",
     "output_type": "stream",
     "text": [
      "3.9728198051452637\n",
      "MODEL - LINEAR SVC\n",
      "accuracy score: 79.77%\n",
      "              precision    recall  f1-score   support\n",
      "\n",
      "           0       0.79      0.78      0.79      1383\n",
      "           1       0.80      0.75      0.77       837\n",
      "           2       0.76      0.79      0.78      1655\n",
      "\n",
      "    accuracy                           0.78      3875\n",
      "   macro avg       0.78      0.78      0.78      3875\n",
      "weighted avg       0.78      0.78      0.78      3875\n",
      "\n"
     ]
    }
   ],
   "source": [
    "pipe = Pipeline([('tfidf', TfidfVectorizer()),\n",
    "                 ('model', SVC(kernel='poly', degree=2, C=10))])\n",
    "\n",
    "model2 = pipe.fit(x_train, y_train)\n",
    "start_time = time.time()\n",
    "prediction1 = model2.predict(x_test)\n",
    "poly_svc_time = time.time() - start_time\n",
    "print(poly_svc_time)\n",
    "print(\"MODEL - LINEAR SVC\")\n",
    "print(\"accuracy score: {}%\".format(round(accuracy_score(y_test, prediction1)*100,2)))\n",
    "print(classification_report(y_test, prediction))"
   ]
  },
  {
   "cell_type": "markdown",
   "metadata": {},
   "source": [
    "3. SVC with Radial Basis Function (RBF) Kernel"
   ]
  },
  {
   "cell_type": "code",
   "execution_count": 22,
   "metadata": {},
   "outputs": [
    {
     "name": "stdout",
     "output_type": "stream",
     "text": [
      "4.432380199432373\n",
      "MODEL - LINEAR SVC\n",
      "accuracy score: 79.64%\n",
      "              precision    recall  f1-score   support\n",
      "\n",
      "           0       0.79      0.78      0.79      1383\n",
      "           1       0.80      0.75      0.77       837\n",
      "           2       0.76      0.79      0.78      1655\n",
      "\n",
      "    accuracy                           0.78      3875\n",
      "   macro avg       0.78      0.78      0.78      3875\n",
      "weighted avg       0.78      0.78      0.78      3875\n",
      "\n"
     ]
    }
   ],
   "source": [
    "pipe = Pipeline([('tfidf', TfidfVectorizer()),\n",
    "                 ('model', SVC(kernel='rbf'))])\n",
    "\n",
    "model3 = pipe.fit(x_train, y_train)\n",
    "start_time = time.time()\n",
    "prediction2 = model3.predict(x_test)\n",
    "rbf_pred_time = time.time() - start_time\n",
    "print(rbf_pred_time)\n",
    "print(\"MODEL - LINEAR SVC\")\n",
    "print(\"accuracy score: {}%\".format(round(accuracy_score(y_test, prediction2)*100,2)))\n",
    "print(classification_report(y_test, prediction))"
   ]
  },
  {
   "cell_type": "markdown",
   "metadata": {
    "id": "mTzHk-TmFyp-"
   },
   "source": [
    "#Saving the Trained Model"
   ]
  },
  {
   "cell_type": "code",
   "execution_count": 23,
   "metadata": {
    "id": "If4Ta7nrFw44"
   },
   "outputs": [],
   "source": [
    "import pickle\n",
    "pickle.dump(model2, open('train_model.pkl','wb'))"
   ]
  },
  {
   "cell_type": "markdown",
   "metadata": {
    "id": "s3N9fa9WDRKC"
   },
   "source": [
    "2. LOGISTIC REGRESSION"
   ]
  },
  {
   "cell_type": "code",
   "execution_count": 24,
   "metadata": {
    "colab": {
     "base_uri": "https://localhost:8080/"
    },
    "id": "RHs3x64-DRKC",
    "outputId": "f39e172e-77d3-49b4-e4f9-50d0d18d92b6"
   },
   "outputs": [
    {
     "name": "stdout",
     "output_type": "stream",
     "text": [
      "0.05817008018493652\n",
      "MODEL - LOGISTIC REGRESSION\n",
      "accuracy: 78.12%\n",
      "              precision    recall  f1-score   support\n",
      "\n",
      "           0       0.80      0.78      0.79      1383\n",
      "           1       0.79      0.76      0.77       837\n",
      "           2       0.76      0.80      0.78      1655\n",
      "\n",
      "    accuracy                           0.78      3875\n",
      "   macro avg       0.78      0.78      0.78      3875\n",
      "weighted avg       0.78      0.78      0.78      3875\n",
      "\n"
     ]
    },
    {
     "name": "stderr",
     "output_type": "stream",
     "text": [
      "C:\\Users\\Vaibhav\\anaconda3\\lib\\site-packages\\sklearn\\linear_model\\_logistic.py:763: ConvergenceWarning: lbfgs failed to converge (status=1):\n",
      "STOP: TOTAL NO. of ITERATIONS REACHED LIMIT.\n",
      "\n",
      "Increase the number of iterations (max_iter) or scale the data as shown in:\n",
      "    https://scikit-learn.org/stable/modules/preprocessing.html\n",
      "Please also refer to the documentation for alternative solver options:\n",
      "    https://scikit-learn.org/stable/modules/linear_model.html#logistic-regression\n",
      "  n_iter_i = _check_optimize_result(\n"
     ]
    }
   ],
   "source": [
    "pipe = Pipeline([('vect', CountVectorizer()),\n",
    "                 ('tfidf', TfidfTransformer()),\n",
    "                 ('model', LogisticRegression())])\n",
    "\n",
    "model = pipe.fit(x_train, y_train)\n",
    "start_time = time.time()\n",
    "prediction = model.predict(x_test)\n",
    "logistic_time = time.time() - start_time\n",
    "print(logistic_time)\n",
    "print(\"MODEL - LOGISTIC REGRESSION\")\n",
    "print(\"accuracy: {}%\".format(round(accuracy_score(y_test, prediction)*100,2)))\n",
    "# print(confusion_matrix(y_test, prediction))\n",
    "print(classification_report(y_test, prediction))"
   ]
  },
  {
   "cell_type": "code",
   "execution_count": null,
   "metadata": {
    "id": "2mi_w-R9EH2m"
   },
   "outputs": [],
   "source": [
    "\n"
   ]
  }
 ],
 "metadata": {
  "colab": {
   "provenance": []
  },
  "kernelspec": {
   "display_name": "Python 3",
   "language": "python",
   "name": "python3"
  },
  "language_info": {
   "codemirror_mode": {
    "name": "ipython",
    "version": 3
   },
   "file_extension": ".py",
   "mimetype": "text/x-python",
   "name": "python",
   "nbconvert_exporter": "python",
   "pygments_lexer": "ipython3",
   "version": "3.8.8"
  }
 },
 "nbformat": 4,
 "nbformat_minor": 1
}
