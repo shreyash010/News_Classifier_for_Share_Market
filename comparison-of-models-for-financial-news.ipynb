{
 "cells": [
  {
   "cell_type": "markdown",
   "metadata": {},
   "source": [
    "# SENTIMENT ANALYSIS FOR FINANCIAL NEWS"
   ]
  },
  {
   "cell_type": "markdown",
   "metadata": {},
   "source": [
    "IMPORTING THE LIBRARY FILES"
   ]
  },
  {
   "cell_type": "code",
   "execution_count": 1,
   "metadata": {},
   "outputs": [],
   "source": [
    "import pandas as pd\n",
    "import numpy as np\n",
    "import seaborn as sns\n",
    "import matplotlib.pyplot as plt\n",
    "from sklearn.feature_extraction.text import CountVectorizer\n",
    "import nltk\n",
    "import string\n",
    "import re"
   ]
  },
  {
   "cell_type": "markdown",
   "metadata": {},
   "source": [
    "DATA LOADING"
   ]
  },
  {
   "cell_type": "code",
   "execution_count": 2,
   "metadata": {},
   "outputs": [],
   "source": [
    "def load_data():\n",
    "    data = pd.read_csv('all-data.csv', sep=',', encoding='latin-1',names = [\"category\",\"comment\"])\n",
    "    return data"
   ]
  },
  {
   "cell_type": "code",
   "execution_count": 3,
   "metadata": {},
   "outputs": [
    {
     "data": {
      "text/html": [
       "<div>\n",
       "<style scoped>\n",
       "    .dataframe tbody tr th:only-of-type {\n",
       "        vertical-align: middle;\n",
       "    }\n",
       "\n",
       "    .dataframe tbody tr th {\n",
       "        vertical-align: top;\n",
       "    }\n",
       "\n",
       "    .dataframe thead th {\n",
       "        text-align: right;\n",
       "    }\n",
       "</style>\n",
       "<table border=\"1\" class=\"dataframe\">\n",
       "  <thead>\n",
       "    <tr style=\"text-align: right;\">\n",
       "      <th></th>\n",
       "      <th>category</th>\n",
       "      <th>comment</th>\n",
       "    </tr>\n",
       "  </thead>\n",
       "  <tbody>\n",
       "    <tr>\n",
       "      <th>0</th>\n",
       "      <td>neutral</td>\n",
       "      <td>According to Gran , the company has no plans t...</td>\n",
       "    </tr>\n",
       "    <tr>\n",
       "      <th>1</th>\n",
       "      <td>neutral</td>\n",
       "      <td>Technopolis plans to develop in stages an area...</td>\n",
       "    </tr>\n",
       "    <tr>\n",
       "      <th>2</th>\n",
       "      <td>negative</td>\n",
       "      <td>The international electronic industry company ...</td>\n",
       "    </tr>\n",
       "    <tr>\n",
       "      <th>3</th>\n",
       "      <td>positive</td>\n",
       "      <td>With the new production plant the company woul...</td>\n",
       "    </tr>\n",
       "    <tr>\n",
       "      <th>4</th>\n",
       "      <td>positive</td>\n",
       "      <td>According to the company 's updated strategy f...</td>\n",
       "    </tr>\n",
       "  </tbody>\n",
       "</table>\n",
       "</div>"
      ],
      "text/plain": [
       "   category                                            comment\n",
       "0   neutral  According to Gran , the company has no plans t...\n",
       "1   neutral  Technopolis plans to develop in stages an area...\n",
       "2  negative  The international electronic industry company ...\n",
       "3  positive  With the new production plant the company woul...\n",
       "4  positive  According to the company 's updated strategy f..."
      ]
     },
     "execution_count": 3,
     "metadata": {},
     "output_type": "execute_result"
    }
   ],
   "source": [
    "tweet_df = load_data()\n",
    "df=load_data()\n",
    "tweet_df.head()\n"
   ]
  },
  {
   "cell_type": "code",
   "execution_count": 4,
   "metadata": {},
   "outputs": [
    {
     "name": "stdout",
     "output_type": "stream",
     "text": [
      "(4846, 2)\n",
      "COLUMN NAMES Index(['category', 'comment'], dtype='object')\n",
      "<class 'pandas.core.frame.DataFrame'>\n",
      "RangeIndex: 4846 entries, 0 to 4845\n",
      "Data columns (total 2 columns):\n",
      " #   Column    Non-Null Count  Dtype \n",
      "---  ------    --------------  ----- \n",
      " 0   category  4846 non-null   object\n",
      " 1   comment   4846 non-null   object\n",
      "dtypes: object(2)\n",
      "memory usage: 75.8+ KB\n",
      "None\n"
     ]
    }
   ],
   "source": [
    "\n",
    "print(tweet_df.shape)\n",
    "print(\"COLUMN NAMES\" , tweet_df.columns)\n",
    "\n",
    "print(tweet_df.info())"
   ]
  },
  {
   "cell_type": "markdown",
   "metadata": {},
   "source": [
    "VISUALIZATION OF CATEGORIES OF TEXT DATA - EXPLORATORY DATA ANALYSIS"
   ]
  },
  {
   "cell_type": "code",
   "execution_count": 5,
   "metadata": {},
   "outputs": [
    {
     "data": {
      "text/plain": [
       "<AxesSubplot:xlabel='category', ylabel='count'>"
      ]
     },
     "execution_count": 5,
     "metadata": {},
     "output_type": "execute_result"
    },
    {
     "data": {
      "image/png": "[encoded data removed]",
      "text/plain": [
       "<Figure size 432x288 with 1 Axes>"
      ]
     },
     "metadata": {
      "needs_background": "light"
     },
     "output_type": "display_data"
    }
   ],
   "source": [
    "#TEXT VISUALIZATION \n",
    "sns.countplot(x=\"category\",data=tweet_df)"
   ]
  },
  {
   "cell_type": "markdown",
   "metadata": {},
   "source": [
    "# TEXT PRE-PROCESSING"
   ]
  },
  {
   "cell_type": "markdown",
   "metadata": {},
   "source": [
    "1. REMOVING PUNCTUATIONS"
   ]
  },
  {
   "cell_type": "code",
   "execution_count": 6,
   "metadata": {},
   "outputs": [
    {
     "data": {
      "text/html": [
       "<div>\n",
       "<style scoped>\n",
       "    .dataframe tbody tr th:only-of-type {\n",
       "        vertical-align: middle;\n",
       "    }\n",
       "\n",
       "    .dataframe tbody tr th {\n",
       "        vertical-align: top;\n",
       "    }\n",
       "\n",
       "    .dataframe thead th {\n",
       "        text-align: right;\n",
       "    }\n",
       "</style>\n",
       "<table border=\"1\" class=\"dataframe\">\n",
       "  <thead>\n",
       "    <tr style=\"text-align: right;\">\n",
       "      <th></th>\n",
       "      <th>category</th>\n",
       "      <th>comment</th>\n",
       "    </tr>\n",
       "  </thead>\n",
       "  <tbody>\n",
       "    <tr>\n",
       "      <th>0</th>\n",
       "      <td>neutral</td>\n",
       "      <td>According to Gran  the company has no plans to...</td>\n",
       "    </tr>\n",
       "    <tr>\n",
       "      <th>1</th>\n",
       "      <td>neutral</td>\n",
       "      <td>Technopolis plans to develop in stages an area...</td>\n",
       "    </tr>\n",
       "    <tr>\n",
       "      <th>2</th>\n",
       "      <td>negative</td>\n",
       "      <td>The international electronic industry company ...</td>\n",
       "    </tr>\n",
       "    <tr>\n",
       "      <th>3</th>\n",
       "      <td>positive</td>\n",
       "      <td>With the new production plant the company woul...</td>\n",
       "    </tr>\n",
       "    <tr>\n",
       "      <th>4</th>\n",
       "      <td>positive</td>\n",
       "      <td>According to the company s updated strategy fo...</td>\n",
       "    </tr>\n",
       "    <tr>\n",
       "      <th>5</th>\n",
       "      <td>positive</td>\n",
       "      <td>FINANCING OF ASPOCOMP S GROWTH Aspocomp is agg...</td>\n",
       "    </tr>\n",
       "    <tr>\n",
       "      <th>6</th>\n",
       "      <td>positive</td>\n",
       "      <td>For the last quarter of   Componenta s net sal...</td>\n",
       "    </tr>\n",
       "    <tr>\n",
       "      <th>7</th>\n",
       "      <td>positive</td>\n",
       "      <td>In the third quarter of   net sales increased ...</td>\n",
       "    </tr>\n",
       "    <tr>\n",
       "      <th>8</th>\n",
       "      <td>positive</td>\n",
       "      <td>Operating profit rose to EUR  mn from EUR  mn ...</td>\n",
       "    </tr>\n",
       "    <tr>\n",
       "      <th>9</th>\n",
       "      <td>positive</td>\n",
       "      <td>Operating profit totalled EUR  mn  up from EUR...</td>\n",
       "    </tr>\n",
       "  </tbody>\n",
       "</table>\n",
       "</div>"
      ],
      "text/plain": [
       "   category                                            comment\n",
       "0   neutral  According to Gran  the company has no plans to...\n",
       "1   neutral  Technopolis plans to develop in stages an area...\n",
       "2  negative  The international electronic industry company ...\n",
       "3  positive  With the new production plant the company woul...\n",
       "4  positive  According to the company s updated strategy fo...\n",
       "5  positive  FINANCING OF ASPOCOMP S GROWTH Aspocomp is agg...\n",
       "6  positive  For the last quarter of   Componenta s net sal...\n",
       "7  positive  In the third quarter of   net sales increased ...\n",
       "8  positive  Operating profit rose to EUR  mn from EUR  mn ...\n",
       "9  positive  Operating profit totalled EUR  mn  up from EUR..."
      ]
     },
     "execution_count": 6,
     "metadata": {},
     "output_type": "execute_result"
    }
   ],
   "source": [
    "#remove punctuations\n",
    "def remove_punct(text):\n",
    "    text  = \"\".join([char for char in text if char not in string.punctuation])\n",
    "    text = re.sub('[0-9]+', '', text)\n",
    "    return text\n",
    "\n",
    "tweet_df['comment'] = tweet_df['comment'].apply(lambda x: remove_punct(x))\n",
    "tweet_df.head(10)"
   ]
  },
  {
   "cell_type": "markdown",
   "metadata": {},
   "source": [
    "2. STOPWORDS REMOVAL"
   ]
  },
  {
   "cell_type": "code",
   "execution_count": 7,
   "metadata": {},
   "outputs": [
    {
     "name": "stdout",
     "output_type": "stream",
     "text": [
      "[nltk_data] Downloading package stopwords to /usr/share/nltk_data...\n",
      "[nltk_data]   Package stopwords is already up-to-date!\n",
      "['i', 'me', 'my', 'myself', 'we', 'our', 'ours', 'ourselves', 'you', \"you're\", \"you've\", \"you'll\", \"you'd\", 'your', 'yours', 'yourself', 'yourselves', 'he', 'him', 'his', 'himself', 'she', \"she's\", 'her', 'hers', 'herself', 'it', \"it's\", 'its', 'itself', 'they', 'them', 'their', 'theirs', 'themselves', 'what', 'which', 'who', 'whom', 'this', 'that', \"that'll\", 'these', 'those', 'am', 'is', 'are', 'was', 'were', 'be', 'been', 'being', 'have', 'has', 'had', 'having', 'do', 'does', 'did', 'doing', 'a', 'an', 'the', 'and', 'but', 'if', 'or', 'because', 'as', 'until', 'while', 'of', 'at', 'by', 'for', 'with', 'about', 'against', 'between', 'into', 'through', 'during', 'before', 'after', 'above', 'below', 'to', 'from', 'up', 'down', 'in', 'out', 'on', 'off', 'over', 'under', 'again', 'further', 'then', 'once', 'here', 'there', 'when', 'where', 'why', 'how', 'all', 'any', 'both', 'each', 'few', 'more', 'most', 'other', 'some', 'such', 'no', 'nor', 'not', 'only', 'own', 'same', 'so', 'than', 'too', 'very', 's', 't', 'can', 'will', 'just', 'don', \"don't\", 'should', \"should've\", 'now', 'd', 'll', 'm', 'o', 're', 've', 'y', 'ain', 'aren', \"aren't\", 'couldn', \"couldn't\", 'didn', \"didn't\", 'doesn', \"doesn't\", 'hadn', \"hadn't\", 'hasn', \"hasn't\", 'haven', \"haven't\", 'isn', \"isn't\", 'ma', 'mightn', \"mightn't\", 'mustn', \"mustn't\", 'needn', \"needn't\", 'shan', \"shan't\", 'shouldn', \"shouldn't\", 'wasn', \"wasn't\", 'weren', \"weren't\", 'won', \"won't\", 'wouldn', \"wouldn't\"]\n"
     ]
    }
   ],
   "source": [
    "#stopwords removal\n",
    "import nltk\n",
    "nltk.download('stopwords')\n",
    "stopword = nltk.corpus.stopwords.words('english')\n",
    "print(stopword)\n",
    "\n"
   ]
  },
  {
   "cell_type": "code",
   "execution_count": 8,
   "metadata": {},
   "outputs": [
    {
     "data": {
      "text/html": [
       "<div>\n",
       "<style scoped>\n",
       "    .dataframe tbody tr th:only-of-type {\n",
       "        vertical-align: middle;\n",
       "    }\n",
       "\n",
       "    .dataframe tbody tr th {\n",
       "        vertical-align: top;\n",
       "    }\n",
       "\n",
       "    .dataframe thead th {\n",
       "        text-align: right;\n",
       "    }\n",
       "</style>\n",
       "<table border=\"1\" class=\"dataframe\">\n",
       "  <thead>\n",
       "    <tr style=\"text-align: right;\">\n",
       "      <th></th>\n",
       "      <th>category</th>\n",
       "      <th>comment</th>\n",
       "      <th>text_wo_stop</th>\n",
       "    </tr>\n",
       "  </thead>\n",
       "  <tbody>\n",
       "    <tr>\n",
       "      <th>0</th>\n",
       "      <td>neutral</td>\n",
       "      <td>According to Gran  the company has no plans to...</td>\n",
       "      <td>According Gran company plans move production R...</td>\n",
       "    </tr>\n",
       "    <tr>\n",
       "      <th>1</th>\n",
       "      <td>neutral</td>\n",
       "      <td>Technopolis plans to develop in stages an area...</td>\n",
       "      <td>Technopolis plans develop stages area less squ...</td>\n",
       "    </tr>\n",
       "    <tr>\n",
       "      <th>2</th>\n",
       "      <td>negative</td>\n",
       "      <td>The international electronic industry company ...</td>\n",
       "      <td>The international electronic industry company ...</td>\n",
       "    </tr>\n",
       "    <tr>\n",
       "      <th>3</th>\n",
       "      <td>positive</td>\n",
       "      <td>With the new production plant the company woul...</td>\n",
       "      <td>With new production plant company would increa...</td>\n",
       "    </tr>\n",
       "    <tr>\n",
       "      <th>4</th>\n",
       "      <td>positive</td>\n",
       "      <td>According to the company s updated strategy fo...</td>\n",
       "      <td>According company updated strategy years Baswa...</td>\n",
       "    </tr>\n",
       "  </tbody>\n",
       "</table>\n",
       "</div>"
      ],
      "text/plain": [
       "   category                                            comment  \\\n",
       "0   neutral  According to Gran  the company has no plans to...   \n",
       "1   neutral  Technopolis plans to develop in stages an area...   \n",
       "2  negative  The international electronic industry company ...   \n",
       "3  positive  With the new production plant the company woul...   \n",
       "4  positive  According to the company s updated strategy fo...   \n",
       "\n",
       "                                        text_wo_stop  \n",
       "0  According Gran company plans move production R...  \n",
       "1  Technopolis plans develop stages area less squ...  \n",
       "2  The international electronic industry company ...  \n",
       "3  With new production plant company would increa...  \n",
       "4  According company updated strategy years Baswa...  "
      ]
     },
     "execution_count": 8,
     "metadata": {},
     "output_type": "execute_result"
    }
   ],
   "source": [
    "from nltk.corpus import stopwords\n",
    "\", \".join(stopwords.words('english'))\n",
    "STOPWORDS = set(stopwords.words('english'))\n",
    "def remove_stopwords(text):\n",
    "    \"\"\"custom function to remove the stopwords\"\"\"\n",
    "    return \" \".join([word for word in str(text).split() if word not in STOPWORDS])\n",
    "\n",
    "tweet_df[\"text_wo_stop\"] = tweet_df[\"comment\"].apply(lambda text: remove_stopwords(text))\n",
    "tweet_df.head()\n",
    "\n"
   ]
  },
  {
   "cell_type": "code",
   "execution_count": 9,
   "metadata": {},
   "outputs": [
    {
     "data": {
      "text/html": [
       "<div>\n",
       "<style scoped>\n",
       "    .dataframe tbody tr th:only-of-type {\n",
       "        vertical-align: middle;\n",
       "    }\n",
       "\n",
       "    .dataframe tbody tr th {\n",
       "        vertical-align: top;\n",
       "    }\n",
       "\n",
       "    .dataframe thead th {\n",
       "        text-align: right;\n",
       "    }\n",
       "</style>\n",
       "<table border=\"1\" class=\"dataframe\">\n",
       "  <thead>\n",
       "    <tr style=\"text-align: right;\">\n",
       "      <th></th>\n",
       "      <th>category</th>\n",
       "      <th>comment</th>\n",
       "      <th>text_wo_stop</th>\n",
       "    </tr>\n",
       "  </thead>\n",
       "  <tbody>\n",
       "    <tr>\n",
       "      <th>0</th>\n",
       "      <td>neutral</td>\n",
       "      <td>According to Gran  the company has no plans to move all production to Russia  although that is w...</td>\n",
       "      <td>According Gran company plans move production Russia although company growing</td>\n",
       "    </tr>\n",
       "    <tr>\n",
       "      <th>1</th>\n",
       "      <td>neutral</td>\n",
       "      <td>Technopolis plans to develop in stages an area of no less than  square meters in order to host c...</td>\n",
       "      <td>Technopolis plans develop stages area less square meters order host companies working computer t...</td>\n",
       "    </tr>\n",
       "    <tr>\n",
       "      <th>2</th>\n",
       "      <td>negative</td>\n",
       "      <td>The international electronic industry company Elcoteq has laid off tens of employees from its Ta...</td>\n",
       "      <td>The international electronic industry company Elcoteq laid tens employees Tallinn facility contr...</td>\n",
       "    </tr>\n",
       "    <tr>\n",
       "      <th>3</th>\n",
       "      <td>positive</td>\n",
       "      <td>With the new production plant the company would increase its capacity to meet the expected incre...</td>\n",
       "      <td>With new production plant company would increase capacity meet expected increase demand would im...</td>\n",
       "    </tr>\n",
       "    <tr>\n",
       "      <th>4</th>\n",
       "      <td>positive</td>\n",
       "      <td>According to the company s updated strategy for the years   Basware targets a longterm net sales...</td>\n",
       "      <td>According company updated strategy years Basware targets longterm net sales growth range operati...</td>\n",
       "    </tr>\n",
       "    <tr>\n",
       "      <th>5</th>\n",
       "      <td>positive</td>\n",
       "      <td>FINANCING OF ASPOCOMP S GROWTH Aspocomp is aggressively pursuing its growth strategy by increasi...</td>\n",
       "      <td>FINANCING OF ASPOCOMP S GROWTH Aspocomp aggressively pursuing growth strategy increasingly focus...</td>\n",
       "    </tr>\n",
       "    <tr>\n",
       "      <th>6</th>\n",
       "      <td>positive</td>\n",
       "      <td>For the last quarter of   Componenta s net sales doubled to EURm from EURm for the same period a...</td>\n",
       "      <td>For last quarter Componenta net sales doubled EURm EURm period year earlier moved zero pretax pr...</td>\n",
       "    </tr>\n",
       "    <tr>\n",
       "      <th>7</th>\n",
       "      <td>positive</td>\n",
       "      <td>In the third quarter of   net sales increased by   to EUR  mn  and operating profit by   to EUR ...</td>\n",
       "      <td>In third quarter net sales increased EUR mn operating profit EUR mn</td>\n",
       "    </tr>\n",
       "    <tr>\n",
       "      <th>8</th>\n",
       "      <td>positive</td>\n",
       "      <td>Operating profit rose to EUR  mn from EUR  mn in the corresponding period in  representing   of ...</td>\n",
       "      <td>Operating profit rose EUR mn EUR mn corresponding period representing net sales</td>\n",
       "    </tr>\n",
       "    <tr>\n",
       "      <th>9</th>\n",
       "      <td>positive</td>\n",
       "      <td>Operating profit totalled EUR  mn  up from EUR  mn in   representing   of net sales</td>\n",
       "      <td>Operating profit totalled EUR mn EUR mn representing net sales</td>\n",
       "    </tr>\n",
       "    <tr>\n",
       "      <th>10</th>\n",
       "      <td>positive</td>\n",
       "      <td>TeliaSonera TLSN said the offer is in line with its strategy to increase its ownership in core b...</td>\n",
       "      <td>TeliaSonera TLSN said offer line strategy increase ownership core business holdings would streng...</td>\n",
       "    </tr>\n",
       "    <tr>\n",
       "      <th>11</th>\n",
       "      <td>positive</td>\n",
       "      <td>STORA ENSO  NORSKE SKOG  MREAL  UPMKYMMENE Credit Suisse First Boston  CFSB  raised the fair val...</td>\n",
       "      <td>STORA ENSO NORSKE SKOG MREAL UPMKYMMENE Credit Suisse First Boston CFSB raised fair value shares...</td>\n",
       "    </tr>\n",
       "    <tr>\n",
       "      <th>12</th>\n",
       "      <td>positive</td>\n",
       "      <td>A purchase agreement for  tons of gasoline with delivery at the Hamina terminal  Finland  was si...</td>\n",
       "      <td>A purchase agreement tons gasoline delivery Hamina terminal Finland signed Neste Oil OYj average...</td>\n",
       "    </tr>\n",
       "    <tr>\n",
       "      <th>13</th>\n",
       "      <td>positive</td>\n",
       "      <td>Finnish Talentum reports its operating profit increased to EUR  mn in  from EUR  mn in   and net...</td>\n",
       "      <td>Finnish Talentum reports operating profit increased EUR mn EUR mn net sales totaled EUR mn EUR mn</td>\n",
       "    </tr>\n",
       "    <tr>\n",
       "      <th>14</th>\n",
       "      <td>positive</td>\n",
       "      <td>Clothing retail chain SeppÆlÆ s sales increased by   to EUR  mn  and operating profit rose to EU...</td>\n",
       "      <td>Clothing retail chain SeppÆlÆ sales increased EUR mn operating profit rose EUR mn EUR mn</td>\n",
       "    </tr>\n",
       "    <tr>\n",
       "      <th>15</th>\n",
       "      <td>positive</td>\n",
       "      <td>Consolidated net sales increased   to reach EUR  m  while operating profit amounted to EUR  m co...</td>\n",
       "      <td>Consolidated net sales increased reach EUR operating profit amounted EUR compared loss EUR prior...</td>\n",
       "    </tr>\n",
       "    <tr>\n",
       "      <th>16</th>\n",
       "      <td>positive</td>\n",
       "      <td>Foundries division reports its sales increased by   to EUR  mn from EUR  mn in the corresponding...</td>\n",
       "      <td>Foundries division reports sales increased EUR mn EUR mn corresponding period sales Machine Shop...</td>\n",
       "    </tr>\n",
       "    <tr>\n",
       "      <th>17</th>\n",
       "      <td>positive</td>\n",
       "      <td>HELSINKI  AFX   Shares closed higher  led by Nokia after it announced plans to team up with Sany...</td>\n",
       "      <td>HELSINKI AFX Shares closed higher led Nokia announced plans team Sanyo manufacture G handsets No...</td>\n",
       "    </tr>\n",
       "    <tr>\n",
       "      <th>18</th>\n",
       "      <td>positive</td>\n",
       "      <td>Incap Contract Manufacturing Services Pvt Ltd  a subsidiary of Incap Corporation of Finland  pla...</td>\n",
       "      <td>Incap Contract Manufacturing Services Pvt Ltd subsidiary Incap Corporation Finland plans double ...</td>\n",
       "    </tr>\n",
       "    <tr>\n",
       "      <th>19</th>\n",
       "      <td>positive</td>\n",
       "      <td>Its board of directors will propose a dividend of EUR  per share for   up from the EUR  per shar...</td>\n",
       "      <td>Its board directors propose dividend EUR per share EUR per share paid</td>\n",
       "    </tr>\n",
       "  </tbody>\n",
       "</table>\n",
       "</div>"
      ],
      "text/plain": [
       "    category  \\\n",
       "0    neutral   \n",
       "1    neutral   \n",
       "2   negative   \n",
       "3   positive   \n",
       "4   positive   \n",
       "5   positive   \n",
       "6   positive   \n",
       "7   positive   \n",
       "8   positive   \n",
       "9   positive   \n",
       "10  positive   \n",
       "11  positive   \n",
       "12  positive   \n",
       "13  positive   \n",
       "14  positive   \n",
       "15  positive   \n",
       "16  positive   \n",
       "17  positive   \n",
       "18  positive   \n",
       "19  positive   \n",
       "\n",
       "                                                                                                comment  \\\n",
       "0   According to Gran  the company has no plans to move all production to Russia  although that is w...   \n",
       "1   Technopolis plans to develop in stages an area of no less than  square meters in order to host c...   \n",
       "2   The international electronic industry company Elcoteq has laid off tens of employees from its Ta...   \n",
       "3   With the new production plant the company would increase its capacity to meet the expected incre...   \n",
       "4   According to the company s updated strategy for the years   Basware targets a longterm net sales...   \n",
       "5   FINANCING OF ASPOCOMP S GROWTH Aspocomp is aggressively pursuing its growth strategy by increasi...   \n",
       "6   For the last quarter of   Componenta s net sales doubled to EURm from EURm for the same period a...   \n",
       "7   In the third quarter of   net sales increased by   to EUR  mn  and operating profit by   to EUR ...   \n",
       "8   Operating profit rose to EUR  mn from EUR  mn in the corresponding period in  representing   of ...   \n",
       "9                  Operating profit totalled EUR  mn  up from EUR  mn in   representing   of net sales    \n",
       "10  TeliaSonera TLSN said the offer is in line with its strategy to increase its ownership in core b...   \n",
       "11  STORA ENSO  NORSKE SKOG  MREAL  UPMKYMMENE Credit Suisse First Boston  CFSB  raised the fair val...   \n",
       "12  A purchase agreement for  tons of gasoline with delivery at the Hamina terminal  Finland  was si...   \n",
       "13  Finnish Talentum reports its operating profit increased to EUR  mn in  from EUR  mn in   and net...   \n",
       "14  Clothing retail chain SeppÆlÆ s sales increased by   to EUR  mn  and operating profit rose to EU...   \n",
       "15  Consolidated net sales increased   to reach EUR  m  while operating profit amounted to EUR  m co...   \n",
       "16  Foundries division reports its sales increased by   to EUR  mn from EUR  mn in the corresponding...   \n",
       "17  HELSINKI  AFX   Shares closed higher  led by Nokia after it announced plans to team up with Sany...   \n",
       "18  Incap Contract Manufacturing Services Pvt Ltd  a subsidiary of Incap Corporation of Finland  pla...   \n",
       "19  Its board of directors will propose a dividend of EUR  per share for   up from the EUR  per shar...   \n",
       "\n",
       "                                                                                           text_wo_stop  \n",
       "0                          According Gran company plans move production Russia although company growing  \n",
       "1   Technopolis plans develop stages area less square meters order host companies working computer t...  \n",
       "2   The international electronic industry company Elcoteq laid tens employees Tallinn facility contr...  \n",
       "3   With new production plant company would increase capacity meet expected increase demand would im...  \n",
       "4   According company updated strategy years Basware targets longterm net sales growth range operati...  \n",
       "5   FINANCING OF ASPOCOMP S GROWTH Aspocomp aggressively pursuing growth strategy increasingly focus...  \n",
       "6   For last quarter Componenta net sales doubled EURm EURm period year earlier moved zero pretax pr...  \n",
       "7                                   In third quarter net sales increased EUR mn operating profit EUR mn  \n",
       "8                       Operating profit rose EUR mn EUR mn corresponding period representing net sales  \n",
       "9                                        Operating profit totalled EUR mn EUR mn representing net sales  \n",
       "10  TeliaSonera TLSN said offer line strategy increase ownership core business holdings would streng...  \n",
       "11  STORA ENSO NORSKE SKOG MREAL UPMKYMMENE Credit Suisse First Boston CFSB raised fair value shares...  \n",
       "12  A purchase agreement tons gasoline delivery Hamina terminal Finland signed Neste Oil OYj average...  \n",
       "13    Finnish Talentum reports operating profit increased EUR mn EUR mn net sales totaled EUR mn EUR mn  \n",
       "14             Clothing retail chain SeppÆlÆ sales increased EUR mn operating profit rose EUR mn EUR mn  \n",
       "15  Consolidated net sales increased reach EUR operating profit amounted EUR compared loss EUR prior...  \n",
       "16  Foundries division reports sales increased EUR mn EUR mn corresponding period sales Machine Shop...  \n",
       "17  HELSINKI AFX Shares closed higher led Nokia announced plans team Sanyo manufacture G handsets No...  \n",
       "18  Incap Contract Manufacturing Services Pvt Ltd subsidiary Incap Corporation Finland plans double ...  \n",
       "19                                Its board directors propose dividend EUR per share EUR per share paid  "
      ]
     },
     "execution_count": 9,
     "metadata": {},
     "output_type": "execute_result"
    }
   ],
   "source": [
    "#remove \n",
    "%matplotlib inline\n",
    "pd.set_option('display.max_colwidth', 100)\n",
    "\n",
    "tweet_df.head(20)"
   ]
  },
  {
   "cell_type": "markdown",
   "metadata": {},
   "source": [
    "3. STEMMING AND LEMMATIZATION OF TEXT DATA\n"
   ]
  },
  {
   "cell_type": "code",
   "execution_count": 10,
   "metadata": {},
   "outputs": [
    {
     "data": {
      "text/html": [
       "<div>\n",
       "<style scoped>\n",
       "    .dataframe tbody tr th:only-of-type {\n",
       "        vertical-align: middle;\n",
       "    }\n",
       "\n",
       "    .dataframe tbody tr th {\n",
       "        vertical-align: top;\n",
       "    }\n",
       "\n",
       "    .dataframe thead th {\n",
       "        text-align: right;\n",
       "    }\n",
       "</style>\n",
       "<table border=\"1\" class=\"dataframe\">\n",
       "  <thead>\n",
       "    <tr style=\"text-align: right;\">\n",
       "      <th></th>\n",
       "      <th>category</th>\n",
       "      <th>comment</th>\n",
       "      <th>text_wo_stop</th>\n",
       "      <th>text_stemmed</th>\n",
       "    </tr>\n",
       "  </thead>\n",
       "  <tbody>\n",
       "    <tr>\n",
       "      <th>0</th>\n",
       "      <td>neutral</td>\n",
       "      <td>According to Gran  the company has no plans to move all production to Russia  although that is w...</td>\n",
       "      <td>According Gran company plans move production Russia although company growing</td>\n",
       "      <td>accord gran compani plan move product russia although compani grow</td>\n",
       "    </tr>\n",
       "    <tr>\n",
       "      <th>1</th>\n",
       "      <td>neutral</td>\n",
       "      <td>Technopolis plans to develop in stages an area of no less than  square meters in order to host c...</td>\n",
       "      <td>Technopolis plans develop stages area less square meters order host companies working computer t...</td>\n",
       "      <td>technopoli plan develop stage area less squar meter order host compani work comput technolog tel...</td>\n",
       "    </tr>\n",
       "    <tr>\n",
       "      <th>2</th>\n",
       "      <td>negative</td>\n",
       "      <td>The international electronic industry company Elcoteq has laid off tens of employees from its Ta...</td>\n",
       "      <td>The international electronic industry company Elcoteq laid tens employees Tallinn facility contr...</td>\n",
       "      <td>the intern electron industri compani elcoteq laid ten employe tallinn facil contrari earlier lay...</td>\n",
       "    </tr>\n",
       "    <tr>\n",
       "      <th>3</th>\n",
       "      <td>positive</td>\n",
       "      <td>With the new production plant the company would increase its capacity to meet the expected incre...</td>\n",
       "      <td>With new production plant company would increase capacity meet expected increase demand would im...</td>\n",
       "      <td>with new product plant compani would increas capac meet expect increas demand would improv use r...</td>\n",
       "    </tr>\n",
       "    <tr>\n",
       "      <th>4</th>\n",
       "      <td>positive</td>\n",
       "      <td>According to the company s updated strategy for the years   Basware targets a longterm net sales...</td>\n",
       "      <td>According company updated strategy years Basware targets longterm net sales growth range operati...</td>\n",
       "      <td>accord compani updat strategi year baswar target longterm net sale growth rang oper profit margi...</td>\n",
       "    </tr>\n",
       "  </tbody>\n",
       "</table>\n",
       "</div>"
      ],
      "text/plain": [
       "   category  \\\n",
       "0   neutral   \n",
       "1   neutral   \n",
       "2  negative   \n",
       "3  positive   \n",
       "4  positive   \n",
       "\n",
       "                                                                                               comment  \\\n",
       "0  According to Gran  the company has no plans to move all production to Russia  although that is w...   \n",
       "1  Technopolis plans to develop in stages an area of no less than  square meters in order to host c...   \n",
       "2  The international electronic industry company Elcoteq has laid off tens of employees from its Ta...   \n",
       "3  With the new production plant the company would increase its capacity to meet the expected incre...   \n",
       "4  According to the company s updated strategy for the years   Basware targets a longterm net sales...   \n",
       "\n",
       "                                                                                          text_wo_stop  \\\n",
       "0                         According Gran company plans move production Russia although company growing   \n",
       "1  Technopolis plans develop stages area less square meters order host companies working computer t...   \n",
       "2  The international electronic industry company Elcoteq laid tens employees Tallinn facility contr...   \n",
       "3  With new production plant company would increase capacity meet expected increase demand would im...   \n",
       "4  According company updated strategy years Basware targets longterm net sales growth range operati...   \n",
       "\n",
       "                                                                                          text_stemmed  \n",
       "0                                   accord gran compani plan move product russia although compani grow  \n",
       "1  technopoli plan develop stage area less squar meter order host compani work comput technolog tel...  \n",
       "2  the intern electron industri compani elcoteq laid ten employe tallinn facil contrari earlier lay...  \n",
       "3  with new product plant compani would increas capac meet expect increas demand would improv use r...  \n",
       "4  accord compani updat strategi year baswar target longterm net sale growth rang oper profit margi...  "
      ]
     },
     "execution_count": 10,
     "metadata": {},
     "output_type": "execute_result"
    }
   ],
   "source": [
    "#stemming and lemmatization\n",
    "from nltk.stem.porter import PorterStemmer\n",
    "stemmer = PorterStemmer()\n",
    "def stem_words(text):\n",
    "    return \" \".join([stemmer.stem(word) for word in text.split()])\n",
    "tweet_df[\"text_stemmed\"] = tweet_df[\"text_wo_stop\"].apply(lambda text: stem_words(text))\n",
    "tweet_df.head()\n",
    "\n"
   ]
  },
  {
   "cell_type": "markdown",
   "metadata": {},
   "source": [
    "4. COUNT VECTORIZATION"
   ]
  },
  {
   "cell_type": "code",
   "execution_count": 11,
   "metadata": {},
   "outputs": [
    {
     "data": {
      "text/plain": [
       "[('the', 1354),\n",
       " ('eur', 1310),\n",
       " ('compani', 971),\n",
       " ('mn', 593),\n",
       " ('oper', 571),\n",
       " ('said', 544),\n",
       " ('finnish', 513),\n",
       " ('sale', 501),\n",
       " ('million', 442),\n",
       " ('share', 438),\n",
       " ('profit', 430),\n",
       " ('net', 413),\n",
       " ('servic', 341),\n",
       " ('finland', 337),\n",
       " ('year', 331),\n",
       " ('group', 328),\n",
       " ('product', 324),\n",
       " ('new', 317),\n",
       " ('market', 317),\n",
       " ('mln', 290)]"
      ]
     },
     "execution_count": 11,
     "metadata": {},
     "output_type": "execute_result"
    }
   ],
   "source": [
    "#remove frequent words - countvectorization\n",
    "from collections import Counter\n",
    "cnt = Counter()\n",
    "for text in tweet_df[\"text_stemmed\"].values:\n",
    "    for word in text.split():\n",
    "        cnt[word] += 1\n",
    "        \n",
    "cnt.most_common(20)"
   ]
  },
  {
   "cell_type": "markdown",
   "metadata": {},
   "source": [
    "5. REMOVAL OF THE MOST FREQUENT WORDS"
   ]
  },
  {
   "cell_type": "code",
   "execution_count": 12,
   "metadata": {},
   "outputs": [
    {
     "data": {
      "text/html": [
       "<div>\n",
       "<style scoped>\n",
       "    .dataframe tbody tr th:only-of-type {\n",
       "        vertical-align: middle;\n",
       "    }\n",
       "\n",
       "    .dataframe tbody tr th {\n",
       "        vertical-align: top;\n",
       "    }\n",
       "\n",
       "    .dataframe thead th {\n",
       "        text-align: right;\n",
       "    }\n",
       "</style>\n",
       "<table border=\"1\" class=\"dataframe\">\n",
       "  <thead>\n",
       "    <tr style=\"text-align: right;\">\n",
       "      <th></th>\n",
       "      <th>category</th>\n",
       "      <th>comment</th>\n",
       "      <th>text_wo_stop</th>\n",
       "      <th>text_stemmed</th>\n",
       "      <th>text__stopfreq</th>\n",
       "    </tr>\n",
       "  </thead>\n",
       "  <tbody>\n",
       "    <tr>\n",
       "      <th>0</th>\n",
       "      <td>neutral</td>\n",
       "      <td>According to Gran  the company has no plans to move all production to Russia  although that is w...</td>\n",
       "      <td>According Gran company plans move production Russia although company growing</td>\n",
       "      <td>accord gran compani plan move product russia although compani grow</td>\n",
       "      <td>accord gran plan move product russia although grow</td>\n",
       "    </tr>\n",
       "    <tr>\n",
       "      <th>1</th>\n",
       "      <td>neutral</td>\n",
       "      <td>Technopolis plans to develop in stages an area of no less than  square meters in order to host c...</td>\n",
       "      <td>Technopolis plans develop stages area less square meters order host companies working computer t...</td>\n",
       "      <td>technopoli plan develop stage area less squar meter order host compani work comput technolog tel...</td>\n",
       "      <td>technopoli plan develop stage area less squar meter order host work comput technolog telecommun ...</td>\n",
       "    </tr>\n",
       "    <tr>\n",
       "      <th>2</th>\n",
       "      <td>negative</td>\n",
       "      <td>The international electronic industry company Elcoteq has laid off tens of employees from its Ta...</td>\n",
       "      <td>The international electronic industry company Elcoteq laid tens employees Tallinn facility contr...</td>\n",
       "      <td>the intern electron industri compani elcoteq laid ten employe tallinn facil contrari earlier lay...</td>\n",
       "      <td>intern electron industri elcoteq laid ten employe tallinn facil contrari earlier layoff contract...</td>\n",
       "    </tr>\n",
       "    <tr>\n",
       "      <th>3</th>\n",
       "      <td>positive</td>\n",
       "      <td>With the new production plant the company would increase its capacity to meet the expected incre...</td>\n",
       "      <td>With new production plant company would increase capacity meet expected increase demand would im...</td>\n",
       "      <td>with new product plant compani would increas capac meet expect increas demand would improv use r...</td>\n",
       "      <td>with new product plant would increas capac meet expect increas demand would improv use raw mater...</td>\n",
       "    </tr>\n",
       "    <tr>\n",
       "      <th>4</th>\n",
       "      <td>positive</td>\n",
       "      <td>According to the company s updated strategy for the years   Basware targets a longterm net sales...</td>\n",
       "      <td>According company updated strategy years Basware targets longterm net sales growth range operati...</td>\n",
       "      <td>accord compani updat strategi year baswar target longterm net sale growth rang oper profit margi...</td>\n",
       "      <td>accord updat strategi year baswar target longterm net growth rang profit margin net</td>\n",
       "    </tr>\n",
       "  </tbody>\n",
       "</table>\n",
       "</div>"
      ],
      "text/plain": [
       "   category  \\\n",
       "0   neutral   \n",
       "1   neutral   \n",
       "2  negative   \n",
       "3  positive   \n",
       "4  positive   \n",
       "\n",
       "                                                                                               comment  \\\n",
       "0  According to Gran  the company has no plans to move all production to Russia  although that is w...   \n",
       "1  Technopolis plans to develop in stages an area of no less than  square meters in order to host c...   \n",
       "2  The international electronic industry company Elcoteq has laid off tens of employees from its Ta...   \n",
       "3  With the new production plant the company would increase its capacity to meet the expected incre...   \n",
       "4  According to the company s updated strategy for the years   Basware targets a longterm net sales...   \n",
       "\n",
       "                                                                                          text_wo_stop  \\\n",
       "0                         According Gran company plans move production Russia although company growing   \n",
       "1  Technopolis plans develop stages area less square meters order host companies working computer t...   \n",
       "2  The international electronic industry company Elcoteq laid tens employees Tallinn facility contr...   \n",
       "3  With new production plant company would increase capacity meet expected increase demand would im...   \n",
       "4  According company updated strategy years Basware targets longterm net sales growth range operati...   \n",
       "\n",
       "                                                                                          text_stemmed  \\\n",
       "0                                   accord gran compani plan move product russia although compani grow   \n",
       "1  technopoli plan develop stage area less squar meter order host compani work comput technolog tel...   \n",
       "2  the intern electron industri compani elcoteq laid ten employe tallinn facil contrari earlier lay...   \n",
       "3  with new product plant compani would increas capac meet expect increas demand would improv use r...   \n",
       "4  accord compani updat strategi year baswar target longterm net sale growth rang oper profit margi...   \n",
       "\n",
       "                                                                                        text__stopfreq  \n",
       "0                                                   accord gran plan move product russia although grow  \n",
       "1  technopoli plan develop stage area less squar meter order host work comput technolog telecommun ...  \n",
       "2  intern electron industri elcoteq laid ten employe tallinn facil contrari earlier layoff contract...  \n",
       "3  with new product plant would increas capac meet expect increas demand would improv use raw mater...  \n",
       "4                  accord updat strategi year baswar target longterm net growth rang profit margin net  "
      ]
     },
     "execution_count": 12,
     "metadata": {},
     "output_type": "execute_result"
    }
   ],
   "source": [
    "FREQWORDS = set([w for (w, wc) in cnt.most_common(10)])\n",
    "def remove_freqwords(text):\n",
    "    \"\"\"custom function to remove the frequent words\"\"\"\n",
    "    return \" \".join([word for word in str(text).split() if word not in FREQWORDS])\n",
    "\n",
    "tweet_df[\"text__stopfreq\"] = tweet_df[\"text_stemmed\"].apply(lambda text: remove_freqwords(text))\n",
    "tweet_df.head()"
   ]
  },
  {
   "cell_type": "code",
   "execution_count": 13,
   "metadata": {},
   "outputs": [
    {
     "data": {
      "text/html": [
       "<div>\n",
       "<style scoped>\n",
       "    .dataframe tbody tr th:only-of-type {\n",
       "        vertical-align: middle;\n",
       "    }\n",
       "\n",
       "    .dataframe tbody tr th {\n",
       "        vertical-align: top;\n",
       "    }\n",
       "\n",
       "    .dataframe thead th {\n",
       "        text-align: right;\n",
       "    }\n",
       "</style>\n",
       "<table border=\"1\" class=\"dataframe\">\n",
       "  <thead>\n",
       "    <tr style=\"text-align: right;\">\n",
       "      <th></th>\n",
       "      <th>category</th>\n",
       "      <th>comment</th>\n",
       "      <th>text_wo_stop</th>\n",
       "      <th>text_stemmed</th>\n",
       "      <th>text__stopfreq</th>\n",
       "      <th>text_lemmatized</th>\n",
       "    </tr>\n",
       "  </thead>\n",
       "  <tbody>\n",
       "    <tr>\n",
       "      <th>0</th>\n",
       "      <td>neutral</td>\n",
       "      <td>According to Gran  the company has no plans to move all production to Russia  although that is w...</td>\n",
       "      <td>According Gran company plans move production Russia although company growing</td>\n",
       "      <td>accord gran compani plan move product russia although compani grow</td>\n",
       "      <td>accord gran plan move product russia although grow</td>\n",
       "      <td>accord gran plan move product russia although grow</td>\n",
       "    </tr>\n",
       "    <tr>\n",
       "      <th>1</th>\n",
       "      <td>neutral</td>\n",
       "      <td>Technopolis plans to develop in stages an area of no less than  square meters in order to host c...</td>\n",
       "      <td>Technopolis plans develop stages area less square meters order host companies working computer t...</td>\n",
       "      <td>technopoli plan develop stage area less squar meter order host compani work comput technolog tel...</td>\n",
       "      <td>technopoli plan develop stage area less squar meter order host work comput technolog telecommun ...</td>\n",
       "      <td>technopoli plan develop stage area less squar meter order host work comput technolog telecommun ...</td>\n",
       "    </tr>\n",
       "    <tr>\n",
       "      <th>2</th>\n",
       "      <td>negative</td>\n",
       "      <td>The international electronic industry company Elcoteq has laid off tens of employees from its Ta...</td>\n",
       "      <td>The international electronic industry company Elcoteq laid tens employees Tallinn facility contr...</td>\n",
       "      <td>the intern electron industri compani elcoteq laid ten employe tallinn facil contrari earlier lay...</td>\n",
       "      <td>intern electron industri elcoteq laid ten employe tallinn facil contrari earlier layoff contract...</td>\n",
       "      <td>intern electron industri elcoteq lay ten employe tallinn facil contrari earlier layoff contract ...</td>\n",
       "    </tr>\n",
       "    <tr>\n",
       "      <th>3</th>\n",
       "      <td>positive</td>\n",
       "      <td>With the new production plant the company would increase its capacity to meet the expected incre...</td>\n",
       "      <td>With new production plant company would increase capacity meet expected increase demand would im...</td>\n",
       "      <td>with new product plant compani would increas capac meet expect increas demand would improv use r...</td>\n",
       "      <td>with new product plant would increas capac meet expect increas demand would improv use raw mater...</td>\n",
       "      <td>with new product plant would increas capac meet expect increas demand would improv use raw mater...</td>\n",
       "    </tr>\n",
       "    <tr>\n",
       "      <th>4</th>\n",
       "      <td>positive</td>\n",
       "      <td>According to the company s updated strategy for the years   Basware targets a longterm net sales...</td>\n",
       "      <td>According company updated strategy years Basware targets longterm net sales growth range operati...</td>\n",
       "      <td>accord compani updat strategi year baswar target longterm net sale growth rang oper profit margi...</td>\n",
       "      <td>accord updat strategi year baswar target longterm net growth rang profit margin net</td>\n",
       "      <td>accord updat strategi year baswar target longterm net growth rang profit margin net</td>\n",
       "    </tr>\n",
       "  </tbody>\n",
       "</table>\n",
       "</div>"
      ],
      "text/plain": [
       "   category  \\\n",
       "0   neutral   \n",
       "1   neutral   \n",
       "2  negative   \n",
       "3  positive   \n",
       "4  positive   \n",
       "\n",
       "                                                                                               comment  \\\n",
       "0  According to Gran  the company has no plans to move all production to Russia  although that is w...   \n",
       "1  Technopolis plans to develop in stages an area of no less than  square meters in order to host c...   \n",
       "2  The international electronic industry company Elcoteq has laid off tens of employees from its Ta...   \n",
       "3  With the new production plant the company would increase its capacity to meet the expected incre...   \n",
       "4  According to the company s updated strategy for the years   Basware targets a longterm net sales...   \n",
       "\n",
       "                                                                                          text_wo_stop  \\\n",
       "0                         According Gran company plans move production Russia although company growing   \n",
       "1  Technopolis plans develop stages area less square meters order host companies working computer t...   \n",
       "2  The international electronic industry company Elcoteq laid tens employees Tallinn facility contr...   \n",
       "3  With new production plant company would increase capacity meet expected increase demand would im...   \n",
       "4  According company updated strategy years Basware targets longterm net sales growth range operati...   \n",
       "\n",
       "                                                                                          text_stemmed  \\\n",
       "0                                   accord gran compani plan move product russia although compani grow   \n",
       "1  technopoli plan develop stage area less squar meter order host compani work comput technolog tel...   \n",
       "2  the intern electron industri compani elcoteq laid ten employe tallinn facil contrari earlier lay...   \n",
       "3  with new product plant compani would increas capac meet expect increas demand would improv use r...   \n",
       "4  accord compani updat strategi year baswar target longterm net sale growth rang oper profit margi...   \n",
       "\n",
       "                                                                                        text__stopfreq  \\\n",
       "0                                                   accord gran plan move product russia although grow   \n",
       "1  technopoli plan develop stage area less squar meter order host work comput technolog telecommun ...   \n",
       "2  intern electron industri elcoteq laid ten employe tallinn facil contrari earlier layoff contract...   \n",
       "3  with new product plant would increas capac meet expect increas demand would improv use raw mater...   \n",
       "4                  accord updat strategi year baswar target longterm net growth rang profit margin net   \n",
       "\n",
       "                                                                                       text_lemmatized  \n",
       "0                                                   accord gran plan move product russia although grow  \n",
       "1  technopoli plan develop stage area less squar meter order host work comput technolog telecommun ...  \n",
       "2  intern electron industri elcoteq lay ten employe tallinn facil contrari earlier layoff contract ...  \n",
       "3  with new product plant would increas capac meet expect increas demand would improv use raw mater...  \n",
       "4                  accord updat strategi year baswar target longterm net growth rang profit margin net  "
      ]
     },
     "execution_count": 13,
     "metadata": {},
     "output_type": "execute_result"
    }
   ],
   "source": [
    "\n",
    "from nltk.corpus import wordnet\n",
    "from nltk.stem import WordNetLemmatizer\n",
    "\n",
    "lemmatizer = WordNetLemmatizer()\n",
    "wordnet_map = {\"N\":wordnet.NOUN, \"V\":wordnet.VERB, \"J\":wordnet.ADJ, \"R\":wordnet.ADV}\n",
    "def lemmatize_words(text):\n",
    "    pos_tagged_text = nltk.pos_tag(text.split())\n",
    "    return \" \".join([lemmatizer.lemmatize(word, wordnet_map.get(pos[0], wordnet.NOUN)) for word, pos in pos_tagged_text])\n",
    "\n",
    "tweet_df[\"text_lemmatized\"] = tweet_df[\"text__stopfreq\"].apply(lambda text: lemmatize_words(text))\n",
    "tweet_df.head()"
   ]
  },
  {
   "cell_type": "markdown",
   "metadata": {},
   "source": [
    "6. DROPPING THE UN-USED COLUMNS"
   ]
  },
  {
   "cell_type": "code",
   "execution_count": 14,
   "metadata": {},
   "outputs": [],
   "source": [
    "#drop the columns\n",
    "tweet_df=tweet_df.drop([\"text_stemmed\",\"text__stopfreq\"],axis=1)"
   ]
  },
  {
   "cell_type": "markdown",
   "metadata": {},
   "source": [
    "7. LABEL ENCODING OF THE CATEGORICAL VARIABLES"
   ]
  },
  {
   "cell_type": "code",
   "execution_count": 15,
   "metadata": {},
   "outputs": [
    {
     "data": {
      "text/html": [
       "<div>\n",
       "<style scoped>\n",
       "    .dataframe tbody tr th:only-of-type {\n",
       "        vertical-align: middle;\n",
       "    }\n",
       "\n",
       "    .dataframe tbody tr th {\n",
       "        vertical-align: top;\n",
       "    }\n",
       "\n",
       "    .dataframe thead th {\n",
       "        text-align: right;\n",
       "    }\n",
       "</style>\n",
       "<table border=\"1\" class=\"dataframe\">\n",
       "  <thead>\n",
       "    <tr style=\"text-align: right;\">\n",
       "      <th></th>\n",
       "      <th>category</th>\n",
       "      <th>encoded_category</th>\n",
       "    </tr>\n",
       "  </thead>\n",
       "  <tbody>\n",
       "    <tr>\n",
       "      <th>0</th>\n",
       "      <td>neutral</td>\n",
       "      <td>1</td>\n",
       "    </tr>\n",
       "    <tr>\n",
       "      <th>1</th>\n",
       "      <td>neutral</td>\n",
       "      <td>1</td>\n",
       "    </tr>\n",
       "    <tr>\n",
       "      <th>2</th>\n",
       "      <td>negative</td>\n",
       "      <td>0</td>\n",
       "    </tr>\n",
       "    <tr>\n",
       "      <th>3</th>\n",
       "      <td>positive</td>\n",
       "      <td>2</td>\n",
       "    </tr>\n",
       "    <tr>\n",
       "      <th>4</th>\n",
       "      <td>positive</td>\n",
       "      <td>2</td>\n",
       "    </tr>\n",
       "    <tr>\n",
       "      <th>...</th>\n",
       "      <td>...</td>\n",
       "      <td>...</td>\n",
       "    </tr>\n",
       "    <tr>\n",
       "      <th>4841</th>\n",
       "      <td>negative</td>\n",
       "      <td>0</td>\n",
       "    </tr>\n",
       "    <tr>\n",
       "      <th>4842</th>\n",
       "      <td>neutral</td>\n",
       "      <td>1</td>\n",
       "    </tr>\n",
       "    <tr>\n",
       "      <th>4843</th>\n",
       "      <td>negative</td>\n",
       "      <td>0</td>\n",
       "    </tr>\n",
       "    <tr>\n",
       "      <th>4844</th>\n",
       "      <td>negative</td>\n",
       "      <td>0</td>\n",
       "    </tr>\n",
       "    <tr>\n",
       "      <th>4845</th>\n",
       "      <td>negative</td>\n",
       "      <td>0</td>\n",
       "    </tr>\n",
       "  </tbody>\n",
       "</table>\n",
       "<p>4846 rows × 2 columns</p>\n",
       "</div>"
      ],
      "text/plain": [
       "      category  encoded_category\n",
       "0      neutral                 1\n",
       "1      neutral                 1\n",
       "2     negative                 0\n",
       "3     positive                 2\n",
       "4     positive                 2\n",
       "...        ...               ...\n",
       "4841  negative                 0\n",
       "4842   neutral                 1\n",
       "4843  negative                 0\n",
       "4844  negative                 0\n",
       "4845  negative                 0\n",
       "\n",
       "[4846 rows x 2 columns]"
      ]
     },
     "execution_count": 15,
     "metadata": {},
     "output_type": "execute_result"
    }
   ],
   "source": [
    "#label encoding\n",
    "from sklearn.preprocessing import LabelEncoder\n",
    "tweet_df['encoded_category'] = LabelEncoder().fit_transform(tweet_df['category'])\n",
    "tweet_df[[\"category\", \"encoded_category\"]] "
   ]
  },
  {
   "cell_type": "code",
   "execution_count": 16,
   "metadata": {},
   "outputs": [],
   "source": [
    "def clean_review(text):\n",
    "    clean_text = []\n",
    "    for w in word_tokenize(text):\n",
    "        if w.lower() not in stop:\n",
    "            pos = pos_tag([w])\n",
    "            new_w = lemmatizer.lemmatize(w, pos=get_simple_pos(pos[0][1]))\n",
    "            clean_text.append(new_w)\n",
    "    return clean_text\n",
    "\n",
    "def join_text(text):\n",
    "    return \" \".join(text)"
   ]
  },
  {
   "cell_type": "code",
   "execution_count": 17,
   "metadata": {},
   "outputs": [],
   "source": [
    "tweet_df=tweet_df.drop([\"category\",\"text_wo_stop\",\"comment\"],axis=1)"
   ]
  },
  {
   "cell_type": "markdown",
   "metadata": {},
   "source": [
    "PREVIEW OF THE CLEAN AND PRE-PROCESSED TEXT"
   ]
  },
  {
   "cell_type": "code",
   "execution_count": 18,
   "metadata": {},
   "outputs": [
    {
     "data": {
      "text/html": [
       "<div>\n",
       "<style scoped>\n",
       "    .dataframe tbody tr th:only-of-type {\n",
       "        vertical-align: middle;\n",
       "    }\n",
       "\n",
       "    .dataframe tbody tr th {\n",
       "        vertical-align: top;\n",
       "    }\n",
       "\n",
       "    .dataframe thead th {\n",
       "        text-align: right;\n",
       "    }\n",
       "</style>\n",
       "<table border=\"1\" class=\"dataframe\">\n",
       "  <thead>\n",
       "    <tr style=\"text-align: right;\">\n",
       "      <th></th>\n",
       "      <th>text_lemmatized</th>\n",
       "      <th>encoded_category</th>\n",
       "    </tr>\n",
       "  </thead>\n",
       "  <tbody>\n",
       "    <tr>\n",
       "      <th>0</th>\n",
       "      <td>accord gran plan move product russia although grow</td>\n",
       "      <td>1</td>\n",
       "    </tr>\n",
       "    <tr>\n",
       "      <th>1</th>\n",
       "      <td>technopoli plan develop stage area less squar meter order host work comput technolog telecommun ...</td>\n",
       "      <td>1</td>\n",
       "    </tr>\n",
       "    <tr>\n",
       "      <th>2</th>\n",
       "      <td>intern electron industri elcoteq lay ten employe tallinn facil contrari earlier layoff contract ...</td>\n",
       "      <td>0</td>\n",
       "    </tr>\n",
       "    <tr>\n",
       "      <th>3</th>\n",
       "      <td>with new product plant would increas capac meet expect increas demand would improv use raw mater...</td>\n",
       "      <td>2</td>\n",
       "    </tr>\n",
       "    <tr>\n",
       "      <th>4</th>\n",
       "      <td>accord updat strategi year baswar target longterm net growth rang profit margin net</td>\n",
       "      <td>2</td>\n",
       "    </tr>\n",
       "    <tr>\n",
       "      <th>5</th>\n",
       "      <td>financ OF aspocomp S growth aspocomp aggress pursu growth strategi increasingli focus technolog ...</td>\n",
       "      <td>2</td>\n",
       "    </tr>\n",
       "    <tr>\n",
       "      <th>6</th>\n",
       "      <td>for last quarter componenta net doubl eurm eurm period year earlier move zero pretax profit pret...</td>\n",
       "      <td>2</td>\n",
       "    </tr>\n",
       "    <tr>\n",
       "      <th>7</th>\n",
       "      <td>In third quarter net increas profit</td>\n",
       "      <td>2</td>\n",
       "    </tr>\n",
       "    <tr>\n",
       "      <th>8</th>\n",
       "      <td>profit rise correspond period repres net</td>\n",
       "      <td>2</td>\n",
       "    </tr>\n",
       "    <tr>\n",
       "      <th>9</th>\n",
       "      <td>profit total repres net</td>\n",
       "      <td>2</td>\n",
       "    </tr>\n",
       "  </tbody>\n",
       "</table>\n",
       "</div>"
      ],
      "text/plain": [
       "                                                                                       text_lemmatized  \\\n",
       "0                                                   accord gran plan move product russia although grow   \n",
       "1  technopoli plan develop stage area less squar meter order host work comput technolog telecommun ...   \n",
       "2  intern electron industri elcoteq lay ten employe tallinn facil contrari earlier layoff contract ...   \n",
       "3  with new product plant would increas capac meet expect increas demand would improv use raw mater...   \n",
       "4                  accord updat strategi year baswar target longterm net growth rang profit margin net   \n",
       "5  financ OF aspocomp S growth aspocomp aggress pursu growth strategi increasingli focus technolog ...   \n",
       "6  for last quarter componenta net doubl eurm eurm period year earlier move zero pretax profit pret...   \n",
       "7                                                                  In third quarter net increas profit   \n",
       "8                                                             profit rise correspond period repres net   \n",
       "9                                                                              profit total repres net   \n",
       "\n",
       "   encoded_category  \n",
       "0                 1  \n",
       "1                 1  \n",
       "2                 0  \n",
       "3                 2  \n",
       "4                 2  \n",
       "5                 2  \n",
       "6                 2  \n",
       "7                 2  \n",
       "8                 2  \n",
       "9                 2  "
      ]
     },
     "execution_count": 18,
     "metadata": {},
     "output_type": "execute_result"
    }
   ],
   "source": [
    "tweet_df.head(10)"
   ]
  },
  {
   "cell_type": "markdown",
   "metadata": {},
   "source": [
    "# CLASSIFICATION MODEL BUILDING"
   ]
  },
  {
   "cell_type": "code",
   "execution_count": 19,
   "metadata": {},
   "outputs": [],
   "source": [
    "from sklearn.linear_model import LogisticRegression\n",
    "from sklearn.naive_bayes import GaussianNB\n",
    "from sklearn.naive_bayes import BernoulliNB\n",
    "from sklearn.naive_bayes import MultinomialNB\n",
    "from sklearn.naive_bayes import MultinomialNB\n",
    "\n",
    "from sklearn.ensemble import GradientBoostingClassifier\n",
    "from sklearn.tree import DecisionTreeClassifier\n",
    "from sklearn.neighbors import KNeighborsClassifier\n",
    "from xgboost import XGBClassifier\n",
    "from sklearn.linear_model import SGDClassifier\n",
    "from sklearn.ensemble import RandomForestClassifier"
   ]
  },
  {
   "cell_type": "markdown",
   "metadata": {},
   "source": [
    "SPLITTING OF TRAIN AND TEST DATA"
   ]
  },
  {
   "cell_type": "code",
   "execution_count": 20,
   "metadata": {},
   "outputs": [
    {
     "data": {
      "text/plain": [
       "((3392,), (1454,), (3392,), (1454,))"
      ]
     },
     "execution_count": 20,
     "metadata": {},
     "output_type": "execute_result"
    }
   ],
   "source": [
    "\n",
    "from sklearn.model_selection import train_test_split\n",
    "from sklearn.pipeline import Pipeline\n",
    "from sklearn.feature_extraction.text import TfidfVectorizer\n",
    "from sklearn.svm import LinearSVC\n",
    "from sklearn.metrics import accuracy_score\n",
    "from sklearn.feature_extraction.text import TfidfTransformer\n",
    "\n",
    "from sklearn.metrics import accuracy_score, confusion_matrix,classification_report\n",
    "\n",
    "x_train,x_test,y_train,y_test = train_test_split(tweet_df.text_lemmatized,tweet_df.encoded_category,test_size = 0.3 , random_state = 0)\n",
    "\n",
    "x_train.shape,x_test.shape,y_train.shape,y_test.shape"
   ]
  },
  {
   "cell_type": "markdown",
   "metadata": {},
   "source": [
    "1. LINEAR SUPPORT VECTOR MACHINE"
   ]
  },
  {
   "cell_type": "code",
   "execution_count": 21,
   "metadata": {},
   "outputs": [
    {
     "name": "stdout",
     "output_type": "stream",
     "text": [
      "MODEL - LINEAR SVC\n",
      "accuracy score: 74.14%\n",
      "[[ 94  63  25]\n",
      " [ 27 763  89]\n",
      " [ 21 151 221]]\n",
      "              precision    recall  f1-score   support\n",
      "\n",
      "           0       0.66      0.52      0.58       182\n",
      "           1       0.78      0.87      0.82       879\n",
      "           2       0.66      0.56      0.61       393\n",
      "\n",
      "    accuracy                           0.74      1454\n",
      "   macro avg       0.70      0.65      0.67      1454\n",
      "weighted avg       0.73      0.74      0.73      1454\n",
      "\n"
     ]
    }
   ],
   "source": [
    "pipe = Pipeline([('tfidf', TfidfVectorizer()),\n",
    "                 ('model', LinearSVC())])\n",
    "\n",
    "model = pipe.fit(x_train, y_train)\n",
    "prediction = model.predict(x_test)\n",
    "print(\"MODEL - LINEAR SVC\")\n",
    "print(\"accuracy score: {}%\".format(round(accuracy_score(y_test, prediction)*100,2)))\n",
    "print(confusion_matrix(y_test, prediction))\n",
    "print(classification_report(y_test, prediction))"
   ]
  },
  {
   "cell_type": "markdown",
   "metadata": {},
   "source": [
    "2. LOGISTIC REGRESSION"
   ]
  },
  {
   "cell_type": "code",
   "execution_count": 22,
   "metadata": {},
   "outputs": [
    {
     "name": "stdout",
     "output_type": "stream",
     "text": [
      "MODEL - LOGISTIC REGRESSION\n",
      "accuracy: 73.66%\n",
      "[[ 63  95  24]\n",
      " [  5 826  48]\n",
      " [ 12 199 182]]\n",
      "              precision    recall  f1-score   support\n",
      "\n",
      "           0       0.79      0.35      0.48       182\n",
      "           1       0.74      0.94      0.83       879\n",
      "           2       0.72      0.46      0.56       393\n",
      "\n",
      "    accuracy                           0.74      1454\n",
      "   macro avg       0.75      0.58      0.62      1454\n",
      "weighted avg       0.74      0.74      0.71      1454\n",
      "\n"
     ]
    }
   ],
   "source": [
    "pipe = Pipeline([('vect', CountVectorizer()),\n",
    "                 ('tfidf', TfidfTransformer()),\n",
    "                 ('model', LogisticRegression())])\n",
    "\n",
    "model = pipe.fit(x_train, y_train)\n",
    "prediction = model.predict(x_test)\n",
    "print(\"MODEL - LOGISTIC REGRESSION\")\n",
    "print(\"accuracy: {}%\".format(round(accuracy_score(y_test, prediction)*100,2)))\n",
    "print(confusion_matrix(y_test, prediction))\n",
    "print(classification_report(y_test, prediction))"
   ]
  },
  {
   "cell_type": "markdown",
   "metadata": {},
   "source": [
    "3. MULTINOMIAL NAIVE BAYES"
   ]
  },
  {
   "cell_type": "code",
   "execution_count": 23,
   "metadata": {},
   "outputs": [
    {
     "name": "stdout",
     "output_type": "stream",
     "text": [
      "MULTINOMIAL NAIVE BAYES\n",
      "accuracy: 69.26%\n",
      "[[ 16 117  49]\n",
      " [  0 859  20]\n",
      " [  1 260 132]]\n",
      "              precision    recall  f1-score   support\n",
      "\n",
      "           0       0.94      0.09      0.16       182\n",
      "           1       0.69      0.98      0.81       879\n",
      "           2       0.66      0.34      0.44       393\n",
      "\n",
      "    accuracy                           0.69      1454\n",
      "   macro avg       0.76      0.47      0.47      1454\n",
      "weighted avg       0.72      0.69      0.63      1454\n",
      "\n"
     ]
    }
   ],
   "source": [
    "pipe = Pipeline([('vect', CountVectorizer()),\n",
    "                 ('tfidf', TfidfTransformer()),\n",
    "                 ('model', MultinomialNB())])\n",
    "\n",
    "model = pipe.fit(x_train, y_train)\n",
    "prediction = model.predict(x_test)\n",
    "print(\"MULTINOMIAL NAIVE BAYES\")\n",
    "print(\"accuracy: {}%\".format(round(accuracy_score(y_test, prediction)*100,2)))\n",
    "print(confusion_matrix(y_test, prediction))\n",
    "print(classification_report(y_test, prediction))"
   ]
  },
  {
   "cell_type": "markdown",
   "metadata": {},
   "source": [
    "4. BERNOULLI NAIVE BAYES "
   ]
  },
  {
   "cell_type": "code",
   "execution_count": 24,
   "metadata": {},
   "outputs": [
    {
     "name": "stdout",
     "output_type": "stream",
     "text": [
      "BERNOULLIS NAIVE BAYES\n",
      "accuracy: 70.77%\n",
      "[[ 15 102  65]\n",
      " [  0 834  45]\n",
      " [  1 212 180]]\n",
      "              precision    recall  f1-score   support\n",
      "\n",
      "           0       0.94      0.08      0.15       182\n",
      "           1       0.73      0.95      0.82       879\n",
      "           2       0.62      0.46      0.53       393\n",
      "\n",
      "    accuracy                           0.71      1454\n",
      "   macro avg       0.76      0.50      0.50      1454\n",
      "weighted avg       0.72      0.71      0.66      1454\n",
      "\n"
     ]
    }
   ],
   "source": [
    "pipe = Pipeline([('vect', CountVectorizer()),\n",
    "                 ('tfidf', TfidfTransformer()),\n",
    "                 ('model', BernoulliNB())])\n",
    "model = pipe.fit(x_train, y_train)\n",
    "prediction = model.predict(x_test)\n",
    "print(\"BERNOULLIS NAIVE BAYES\")\n",
    "print(\"accuracy: {}%\".format(round(accuracy_score(y_test, prediction)*100,2)))\n",
    "print(confusion_matrix(y_test, prediction))\n",
    "print(classification_report(y_test, prediction))"
   ]
  },
  {
   "cell_type": "markdown",
   "metadata": {},
   "source": [
    "5. GRADIENT BOOSTING CLASSIFICATION MODEL"
   ]
  },
  {
   "cell_type": "code",
   "execution_count": 25,
   "metadata": {},
   "outputs": [
    {
     "name": "stdout",
     "output_type": "stream",
     "text": [
      "GRADIENT BOOST\n",
      "accuracy: 60.45%\n",
      "[[  0 182   0]\n",
      " [  0 879   0]\n",
      " [  0 393   0]]\n",
      "              precision    recall  f1-score   support\n",
      "\n",
      "           0       0.00      0.00      0.00       182\n",
      "           1       0.60      1.00      0.75       879\n",
      "           2       0.00      0.00      0.00       393\n",
      "\n",
      "    accuracy                           0.60      1454\n",
      "   macro avg       0.20      0.33      0.25      1454\n",
      "weighted avg       0.37      0.60      0.46      1454\n",
      "\n"
     ]
    },
    {
     "name": "stderr",
     "output_type": "stream",
     "text": [
      "/opt/conda/lib/python3.7/site-packages/sklearn/metrics/_classification.py:1272: UndefinedMetricWarning: Precision and F-score are ill-defined and being set to 0.0 in labels with no predicted samples. Use `zero_division` parameter to control this behavior.\n",
      "  _warn_prf(average, modifier, msg_start, len(result))\n"
     ]
    }
   ],
   "source": [
    "pipe = Pipeline([('vect', CountVectorizer()),\n",
    "                 ('tfidf', TfidfTransformer()),\n",
    "                 ('model', GradientBoostingClassifier(loss = 'deviance',\n",
    "                                                   learning_rate = 0.01,\n",
    "                                                   n_estimators = 10,\n",
    "                                                   max_depth = 5,\n",
    "                                                   random_state=55))])\n",
    "model = pipe.fit(x_train, y_train)\n",
    "prediction = model.predict(x_test)\n",
    "print(\"GRADIENT BOOST\")\n",
    "print(\"accuracy: {}%\".format(round(accuracy_score(y_test, prediction)*100,2)))\n",
    "print(confusion_matrix(y_test, prediction))\n",
    "print(classification_report(y_test, prediction))"
   ]
  },
  {
   "cell_type": "markdown",
   "metadata": {},
   "source": [
    "6. XGBOOST CLASSIFICATION MODEL"
   ]
  },
  {
   "cell_type": "code",
   "execution_count": 26,
   "metadata": {},
   "outputs": [
    {
     "name": "stdout",
     "output_type": "stream",
     "text": [
      "XGBOOST\n",
      "accuracy: 69.53%\n",
      "[[ 50 114  18]\n",
      " [ 13 834  32]\n",
      " [ 15 251 127]]\n",
      "              precision    recall  f1-score   support\n",
      "\n",
      "           0       0.64      0.27      0.38       182\n",
      "           1       0.70      0.95      0.80       879\n",
      "           2       0.72      0.32      0.45       393\n",
      "\n",
      "    accuracy                           0.70      1454\n",
      "   macro avg       0.68      0.52      0.54      1454\n",
      "weighted avg       0.69      0.70      0.65      1454\n",
      "\n"
     ]
    }
   ],
   "source": [
    "pipe = Pipeline([('vect', CountVectorizer()),\n",
    "                 ('tfidf', TfidfTransformer()),\n",
    "                 ('model', XGBClassifier(loss = 'deviance',\n",
    "                                                   learning_rate = 0.01,\n",
    "                                                   n_estimators = 10,\n",
    "                                                   max_depth = 5,\n",
    "                                                   random_state=2020))])\n",
    "\n",
    "model = pipe.fit(x_train, y_train)\n",
    "prediction = model.predict(x_test)\n",
    "print(\"XGBOOST\")\n",
    "print(\"accuracy: {}%\".format(round(accuracy_score(y_test, prediction)*100,2)))\n",
    "print(confusion_matrix(y_test, prediction))\n",
    "print(classification_report(y_test, prediction))"
   ]
  },
  {
   "cell_type": "markdown",
   "metadata": {},
   "source": [
    "7. DECISION TREE CLASSIFICATION MODEL"
   ]
  },
  {
   "cell_type": "code",
   "execution_count": 27,
   "metadata": {},
   "outputs": [
    {
     "name": "stdout",
     "output_type": "stream",
     "text": [
      "DECISION TREE\n",
      "accuracy: 70.29%\n",
      "[[ 46 121  15]\n",
      " [  8 833  38]\n",
      " [  8 242 143]]\n",
      "              precision    recall  f1-score   support\n",
      "\n",
      "           0       0.74      0.25      0.38       182\n",
      "           1       0.70      0.95      0.80       879\n",
      "           2       0.73      0.36      0.49       393\n",
      "\n",
      "    accuracy                           0.70      1454\n",
      "   macro avg       0.72      0.52      0.56      1454\n",
      "weighted avg       0.71      0.70      0.66      1454\n",
      "\n"
     ]
    }
   ],
   "source": [
    "pipe = Pipeline([('vect', CountVectorizer()),\n",
    "                 ('tfidf', TfidfTransformer()),\n",
    "                 ('model', DecisionTreeClassifier(criterion= 'entropy',\n",
    "                                           max_depth = 10, \n",
    "                                           splitter='best', \n",
    "                                           random_state=2020))])\n",
    "model = pipe.fit(x_train, y_train)\n",
    "prediction = model.predict(x_test)\n",
    "print(\"DECISION TREE\")\n",
    "print(\"accuracy: {}%\".format(round(accuracy_score(y_test, prediction)*100,2)))\n",
    "print(confusion_matrix(y_test, prediction))\n",
    "print(classification_report(y_test, prediction))"
   ]
  },
  {
   "cell_type": "markdown",
   "metadata": {},
   "source": [
    "8. K- NEAREST NEIGHBOUR CLASSIFIER MODEL"
   ]
  },
  {
   "cell_type": "code",
   "execution_count": 28,
   "metadata": {},
   "outputs": [
    {
     "name": "stdout",
     "output_type": "stream",
     "text": [
      "K NEAREST NEIGHBOR\n",
      "accuracy: 70.01%\n",
      "[[ 77  62  43]\n",
      " [ 22 766  91]\n",
      " [ 27 191 175]]\n",
      "              precision    recall  f1-score   support\n",
      "\n",
      "           0       0.61      0.42      0.50       182\n",
      "           1       0.75      0.87      0.81       879\n",
      "           2       0.57      0.45      0.50       393\n",
      "\n",
      "    accuracy                           0.70      1454\n",
      "   macro avg       0.64      0.58      0.60      1454\n",
      "weighted avg       0.68      0.70      0.69      1454\n",
      "\n"
     ]
    }
   ],
   "source": [
    "pipe = Pipeline([('vect', CountVectorizer()),\n",
    "                 ('tfidf', TfidfTransformer()),\n",
    "                 ('model', KNeighborsClassifier(n_neighbors = 10,weights = 'distance',algorithm = 'brute'))])\n",
    "model = pipe.fit(x_train, y_train)\n",
    "prediction = model.predict(x_test)\n",
    "print(\"K NEAREST NEIGHBOR\")\n",
    "print(\"accuracy: {}%\".format(round(accuracy_score(y_test, prediction)*100,2)))\n",
    "print(confusion_matrix(y_test, prediction))\n",
    "print(classification_report(y_test, prediction))"
   ]
  },
  {
   "cell_type": "markdown",
   "metadata": {},
   "source": [
    "CONCLUSION\n",
    "\n",
    "Based on the above model comparison we can infer that Linear SVC model predicts the text classification at a better rate of accuracy than other models.\n",
    "\n"
   ]
  },
  {
   "cell_type": "markdown",
   "metadata": {},
   "source": [
    "This is my first kernel and first attempt in text analytics. Critics are expected as in to improve me further. Thanks in Advance!! :)"
   ]
  }
 ],
 "metadata": {
  "kernelspec": {
   "display_name": "Python 3 (ipykernel)",
   "language": "python",
   "name": "python3"
  },
  "language_info": {
   "codemirror_mode": {
    "name": "ipython",
    "version": 3
   },
   "file_extension": ".py",
   "mimetype": "text/x-python",
   "name": "python",
   "nbconvert_exporter": "python",
   "pygments_lexer": "ipython3",
   "version": "3.9.7"
  }
 },
 "nbformat": 4,
 "nbformat_minor": 4
}
